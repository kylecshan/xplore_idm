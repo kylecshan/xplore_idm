{
 "cells": [
  {
   "cell_type": "code",
   "execution_count": 1,
   "metadata": {},
   "outputs": [],
   "source": [
    "import torch\n",
    "import torchvision.transforms as transforms\n",
    "import torchvision.models as models\n",
    "import torch.nn as nn\n",
    "import torch.optim as optim\n",
    "import torch.utils.data.dataset as dataset\n",
    "import numpy as np\n",
    "\n",
    "from dataset import TestDataset\n",
    "from model import *"
   ]
  },
  {
   "cell_type": "code",
   "execution_count": 2,
   "metadata": {},
   "outputs": [
    {
     "name": "stdout",
     "output_type": "stream",
     "text": [
      "cuda:0\n"
     ]
    }
   ],
   "source": [
    "device = torch.device(\"cuda:0\" if torch.cuda.is_available() else \"cpu\")\n",
    "print(device)"
   ]
  },
  {
   "cell_type": "markdown",
   "metadata": {},
   "source": [
    "## Extract features if you're using a newly trained model"
   ]
  },
  {
   "cell_type": "code",
   "execution_count": 3,
   "metadata": {
    "scrolled": true
   },
   "outputs": [
    {
     "data": {
      "text/plain": [
       "VGG(\n",
       "  (features): Sequential(\n",
       "    (0): Conv2d(9, 64, kernel_size=(3, 3), stride=(1, 1), padding=(1, 1))\n",
       "    (1): BatchNorm2d(64, eps=1e-05, momentum=0.1, affine=True, track_running_stats=True)\n",
       "    (2): ReLU(inplace=True)\n",
       "    (3): MaxPool2d(kernel_size=2, stride=2, padding=0, dilation=1, ceil_mode=False)\n",
       "    (4): Conv2d(64, 128, kernel_size=(3, 3), stride=(1, 1), padding=(1, 1))\n",
       "    (5): BatchNorm2d(128, eps=1e-05, momentum=0.1, affine=True, track_running_stats=True)\n",
       "    (6): ReLU(inplace=True)\n",
       "    (7): MaxPool2d(kernel_size=2, stride=2, padding=0, dilation=1, ceil_mode=False)\n",
       "    (8): Conv2d(128, 256, kernel_size=(3, 3), stride=(1, 1), padding=(1, 1))\n",
       "    (9): BatchNorm2d(256, eps=1e-05, momentum=0.1, affine=True, track_running_stats=True)\n",
       "    (10): ReLU(inplace=True)\n",
       "    (11): Conv2d(256, 256, kernel_size=(3, 3), stride=(1, 1), padding=(1, 1))\n",
       "    (12): BatchNorm2d(256, eps=1e-05, momentum=0.1, affine=True, track_running_stats=True)\n",
       "    (13): ReLU(inplace=True)\n",
       "    (14): MaxPool2d(kernel_size=2, stride=2, padding=0, dilation=1, ceil_mode=False)\n",
       "    (15): Conv2d(256, 512, kernel_size=(3, 3), stride=(1, 1), padding=(1, 1))\n",
       "    (16): BatchNorm2d(512, eps=1e-05, momentum=0.1, affine=True, track_running_stats=True)\n",
       "    (17): ReLU(inplace=True)\n",
       "    (18): Conv2d(512, 512, kernel_size=(3, 3), stride=(1, 1), padding=(1, 1))\n",
       "    (19): BatchNorm2d(512, eps=1e-05, momentum=0.1, affine=True, track_running_stats=True)\n",
       "    (20): ReLU(inplace=True)\n",
       "    (21): MaxPool2d(kernel_size=2, stride=2, padding=0, dilation=1, ceil_mode=False)\n",
       "    (22): Conv2d(512, 512, kernel_size=(3, 3), stride=(1, 1), padding=(1, 1))\n",
       "    (23): BatchNorm2d(512, eps=1e-05, momentum=0.1, affine=True, track_running_stats=True)\n",
       "    (24): ReLU(inplace=True)\n",
       "    (25): Conv2d(512, 512, kernel_size=(3, 3), stride=(1, 1), padding=(1, 1))\n",
       "    (26): BatchNorm2d(512, eps=1e-05, momentum=0.1, affine=True, track_running_stats=True)\n",
       "    (27): ReLU(inplace=True)\n",
       "    (28): MaxPool2d(kernel_size=2, stride=2, padding=0, dilation=1, ceil_mode=False)\n",
       "  )\n",
       "  (avgpool): AdaptiveAvgPool2d(output_size=(1, 1))\n",
       "  (classifier): Identity()\n",
       ")"
      ]
     },
     "execution_count": 3,
     "metadata": {},
     "output_type": "execute_result"
    }
   ],
   "source": [
    "# Load trained model\n",
    "net = initialize_model2()\n",
    "n_features = 512\n",
    "\n",
    "SAVED_MODEL_PATH = 'checkpoints/vgg11bn_4_4'\n",
    "net.load_state_dict(torch.load(SAVED_MODEL_PATH))\n",
    "\n",
    "# Freeze layers\n",
    "for param in net.parameters():\n",
    "    param.requires_grad = False\n",
    "    \n",
    "# We just want to apply the feature extractor for now\n",
    "net.classifier = nn.Identity()\n",
    "net.eval()"
   ]
  },
  {
   "cell_type": "code",
   "execution_count": 4,
   "metadata": {},
   "outputs": [],
   "source": [
    "# Get dataset\n",
    "DATA_FILE = 'E:/xplore_data/data/images.h5'\n",
    "HEALTH_FILE = 'data/residuals.csv'\n",
    "dimages = TestDataset(DATA_FILE, HEALTH_FILE)\n",
    "dimagesloader = torch.utils.data.DataLoader(dimages, batch_size=64, shuffle=False, num_workers=0)"
   ]
  },
  {
   "cell_type": "code",
   "execution_count": 5,
   "metadata": {},
   "outputs": [],
   "source": [
    "# Apply feature extractor to the dataset\n",
    "n = len(dimages)\n",
    "extracted_features = torch.zeros(n, n_features+11+1)\n",
    "i = 0\n",
    "# Iterate over data.\n",
    "net.to(device)\n",
    "for x, _, z in dimagesloader:\n",
    "    x = x.to(device)\n",
    "    j = i + x.shape[0]\n",
    "    with torch.set_grad_enabled(False):\n",
    "        outputs = net(x)\n",
    "        extracted_features[i:j, :n_features] = torch.squeeze(outputs).cpu()\n",
    "        extracted_features[i:j, n_features:n_features+11] = z[:, 14:25]\n",
    "        extracted_features[i:j, n_features+11] = z[:, 3:14].mean(axis=1)\n",
    "    i += 64"
   ]
  },
  {
   "cell_type": "code",
   "execution_count": 6,
   "metadata": {},
   "outputs": [
    {
     "data": {
      "text/plain": [
       "tensor([], size=(0, 2), dtype=torch.int64)"
      ]
     },
     "execution_count": 6,
     "metadata": {},
     "output_type": "execute_result"
    }
   ],
   "source": [
    "torch.isnan(extracted_features).nonzero()"
   ]
  },
  {
   "cell_type": "code",
   "execution_count": 7,
   "metadata": {},
   "outputs": [],
   "source": [
    "torch.save(extracted_features, 'data/features_residuals.pt')"
   ]
  },
  {
   "cell_type": "markdown",
   "metadata": {},
   "source": [
    "## Load pre-extracted features if you don't want to re-extract"
   ]
  },
  {
   "cell_type": "code",
   "execution_count": 4,
   "metadata": {},
   "outputs": [],
   "source": [
    "extracted_features = torch.load('data/features_residuals.pt')"
   ]
  },
  {
   "cell_type": "code",
   "execution_count": 16,
   "metadata": {},
   "outputs": [],
   "source": [
    "dfeatures = dataset.TensorDataset(extracted_features)\n",
    "n = extracted_features.shape[0]\n",
    "n_features = 512\n",
    "vaccs = [5]\n",
    "# vaccs = [0, 1, 2, 3, 4, 5, 6, 7, 8, 9, 10]\n",
    "idx_vac = [x+n_features for x in vaccs]\n",
    "\n",
    "# Randomly split this dataset into train and test.\n",
    "dtrain, dtest = dataset.random_split(dfeatures, (n - (n//5), n//5))"
   ]
  },
  {
   "cell_type": "code",
   "execution_count": 17,
   "metadata": {},
   "outputs": [
    {
     "name": "stdout",
     "output_type": "stream",
     "text": [
      "torch.Size([524])\n"
     ]
    }
   ],
   "source": [
    "print(dfeatures.__getitem__(0)[0].shape)"
   ]
  },
  {
   "cell_type": "code",
   "execution_count": 18,
   "metadata": {},
   "outputs": [],
   "source": [
    "# Train the predictor model\n",
    "def train_model(model, dataloader, optimizer, scheduler, num_epochs=4, test_loader=None):\n",
    "    print_every = 50\n",
    "    best_model = None\n",
    "    best_test_loss = 999999\n",
    "    \n",
    "    for epoch in range(num_epochs+1):\n",
    "        if epoch % print_every == 0:\n",
    "            print('Epoch {}/{}: '.format(epoch, num_epochs), end='')\n",
    "\n",
    "        model.train()\n",
    "        running_loss = 0.0\n",
    "        criterion = nn.MSELoss(reduction='none')\n",
    "\n",
    "        # Iterate over data.\n",
    "        model.train()\n",
    "        for rows in dataloader:\n",
    "            x = rows[0][:, :n_features].to(device)\n",
    "            y = rows[0][:, idx_vac].to(device)\n",
    "            wt = rows[0][:, n_features+11].to(device)\n",
    "            wt = wt / wt.sum() * x.shape[0] #give the weights an avg of 1\n",
    "\n",
    "            optimizer.zero_grad()\n",
    "\n",
    "            with torch.set_grad_enabled(True):\n",
    "                outputs = model(x)\n",
    "                loss = torch.mean(criterion(outputs, y) * wt[:, None])\n",
    "                loss.backward()\n",
    "                optimizer.step()\n",
    "                if scheduler is not None:\n",
    "                    scheduler.step()\n",
    "\n",
    "            # statistics\n",
    "            running_loss += loss.item() * x.size(0)\n",
    "\n",
    "        epoch_loss = running_loss / len(dataloader.dataset)\n",
    "        if epoch % print_every == 0:\n",
    "            print('Training loss: {:.4f}; '.format(epoch_loss), end='')\n",
    "            \n",
    "        # Run on test data\n",
    "        test_loss = 0.0\n",
    "        model.eval()\n",
    "        if test_loader is not None:\n",
    "            for rows in test_loader:\n",
    "                x = rows[0][:, :n_features].to(device)\n",
    "                y = rows[0][:, idx_vac].to(device)\n",
    "                wt = rows[0][:, n_features+11].to(device)\n",
    "                wt = wt / wt.sum() * x.shape[0]\n",
    "\n",
    "                with torch.set_grad_enabled(False):\n",
    "                    outputs = model(x)\n",
    "                    loss = torch.mean(criterion(outputs, y) * wt[:, None])\n",
    "\n",
    "                test_loss += loss.item() * x.size(0)\n",
    "            test_loss /= len(dtest)\n",
    "    #         if test_loss < best_test_loss:\n",
    "    #             best_test_loss = test_loss\n",
    "    #             best_model = model.state_dict()\n",
    "            if epoch % print_every == 0:\n",
    "                print('Test loss: {:.4f}'.format(test_loss), end='')\n",
    "                \n",
    "        if epoch % print_every == 0:\n",
    "            print()\n",
    "\n",
    "#     model.load_state_dict(best_model)\n",
    "    return model\n"
   ]
  },
  {
   "cell_type": "code",
   "execution_count": 19,
   "metadata": {},
   "outputs": [],
   "source": [
    "# Simple neural network to predict healthcare\n",
    "def initialize_predictor():\n",
    "    predictor = nn.Sequential(\n",
    "        nn.Linear(n_features, 200),\n",
    "        nn.Sigmoid(),\n",
    "        nn.Linear(200, 100),\n",
    "        nn.Sigmoid(),\n",
    "        nn.Linear(100, len(vaccs))\n",
    "    )\n",
    "#     predictor = nn.Sequential(\n",
    "#         nn.Linear(n_features, 10),\n",
    "#         nn.Sigmoid(),\n",
    "#         nn.Linear(10, 1)\n",
    "#     )\n",
    "    predictor.to(device)\n",
    "    return predictor"
   ]
  },
  {
   "cell_type": "code",
   "execution_count": 20,
   "metadata": {},
   "outputs": [],
   "source": [
    "BATCH_SIZE = len(dtrain)\n",
    "EPOCHS = 500\n",
    "\n",
    "predictor = initialize_predictor()\n",
    "\n",
    "# Data loader\n",
    "dloader = torch.utils.data.DataLoader(dtrain, batch_size=BATCH_SIZE, shuffle=True, num_workers=0)\n",
    "dtestloader = torch.utils.data.DataLoader(dtest, batch_size=512, shuffle=False, num_workers=0)\n",
    "\n",
    "# Create training optimizer\n",
    "optimizer = optim.Adam(predictor.parameters(), lr=5e-4, weight_decay=2e-5)\n",
    "scheduler = optim.lr_scheduler.StepLR(optimizer, step_size=50, gamma=0.7)\n"
   ]
  },
  {
   "cell_type": "code",
   "execution_count": 21,
   "metadata": {
    "scrolled": true
   },
   "outputs": [
    {
     "name": "stdout",
     "output_type": "stream",
     "text": [
      "Epoch 0/500: Training loss: 0.0533; Test loss: 0.0533\n",
      "Epoch 50/500: Training loss: 0.0398; Test loss: 0.0363\n",
      "Epoch 100/500: Training loss: 0.0358; Test loss: 0.0341\n",
      "Epoch 150/500: Training loss: 0.0332; Test loss: 0.0334\n",
      "Epoch 200/500: Training loss: 0.0313; Test loss: 0.0327\n",
      "Epoch 250/500: Training loss: 0.0298; Test loss: 0.0322\n",
      "Epoch 300/500: Training loss: 0.0288; Test loss: 0.0318\n",
      "Epoch 350/500: Training loss: 0.0280; Test loss: 0.0316\n",
      "Epoch 400/500: Training loss: 0.0275; Test loss: 0.0314\n",
      "Epoch 450/500: Training loss: 0.0271; Test loss: 0.0313\n",
      "Epoch 500/500: Training loss: 0.0269; Test loss: 0.0312\n"
     ]
    }
   ],
   "source": [
    "predictor = train_model(predictor, dloader, optimizer, scheduler, \n",
    "                        num_epochs=EPOCHS, test_loader=dtestloader)"
   ]
  },
  {
   "cell_type": "code",
   "execution_count": 24,
   "metadata": {
    "scrolled": false
   },
   "outputs": [
    {
     "data": {
      "image/png": "[encoded data removed]",
      "text/plain": [
       "<Figure size 1080x216 with 2 Axes>"
      ]
     },
     "metadata": {
      "needs_background": "light"
     },
     "output_type": "display_data"
    }
   ],
   "source": [
    "from sklearn.metrics import r2_score\n",
    "import matplotlib.pyplot as plt\n",
    "\n",
    "with torch.no_grad():\n",
    "    split = [dtrain.indices, dtest.indices]\n",
    "    tensor_inputs = [extracted_features[x, :n_features].to(device) for x in split]\n",
    "    weights = [extracted_features[x, n_features+11] for x in split]\n",
    "    \n",
    "    targets = [extracted_features[x, :].numpy() for x in split]\n",
    "    targets = [x[:, idx_vac] for x in targets]\n",
    "    preds = [predictor(x).cpu().numpy() for x in tensor_inputs]\n",
    "\n",
    "f, axs = plt.subplots(len(vaccs), 2, figsize=(15,3))\n",
    "for i in range(len(vaccs)):\n",
    "    r2s = [r2_score(y[:,i], pred[:,i], sample_weight=wt) \n",
    "           for y, pred, wt in zip(targets, preds, weights)]\n",
    "#     r2s = [r2_score(y[:,i], pred[:,i]) for y, pred in zip(targets, preds)]\n",
    "    axs[0].scatter(preds[0][:,i], targets[0][:,i])\n",
    "    axs[0].set_title(r2s[0])\n",
    "    axs[1].scatter(preds[1][:,i], targets[1][:,i])\n",
    "    axs[1].set_title(r2s[1])"
   ]
  },
  {
   "cell_type": "markdown",
   "metadata": {},
   "source": [
    "## Train model on full dataset and save"
   ]
  },
  {
   "cell_type": "code",
   "execution_count": 25,
   "metadata": {},
   "outputs": [],
   "source": [
    "BATCH_SIZE = len(dfeatures)\n",
    "EPOCHS = 500\n",
    "\n",
    "predictor = initialize_predictor()\n",
    "\n",
    "# Data loader\n",
    "dloader = torch.utils.data.DataLoader(dfeatures, batch_size=BATCH_SIZE, shuffle=True, num_workers=0)\n",
    "\n",
    "# Create training optimizer\n",
    "optimizer = optim.Adam(predictor.parameters(), lr=2e-3, weight_decay=1e-5)\n",
    "scheduler = optim.lr_scheduler.StepLR(optimizer, step_size=50, gamma=0.7)\n"
   ]
  },
  {
   "cell_type": "code",
   "execution_count": 26,
   "metadata": {
    "scrolled": true
   },
   "outputs": [
    {
     "name": "stdout",
     "output_type": "stream",
     "text": [
      "Epoch 0/500: Training loss: 0.0565; \n",
      "Epoch 50/500: Training loss: 0.0477; \n",
      "Epoch 100/500: Training loss: 0.0414; \n",
      "Epoch 150/500: Training loss: 0.0374; \n",
      "Epoch 200/500: Training loss: 0.0355; \n",
      "Epoch 250/500: Training loss: 0.0344; \n",
      "Epoch 300/500: Training loss: 0.0335; \n",
      "Epoch 350/500: Training loss: 0.0329; \n",
      "Epoch 400/500: Training loss: 0.0325; \n",
      "Epoch 450/500: Training loss: 0.0322; \n",
      "Epoch 500/500: Training loss: 0.0320; \n"
     ]
    }
   ],
   "source": [
    "predictor = train_model(predictor, dloader, optimizer, scheduler, \n",
    "                        num_epochs=EPOCHS)"
   ]
  },
  {
   "cell_type": "code",
   "execution_count": 27,
   "metadata": {},
   "outputs": [],
   "source": [
    "import os\n",
    "net.classifier = predictor\n",
    "checkpoint_name = 'vgg11bn_4_e2e_resid'\n",
    "CHECKPOINT_FOLDER = 'checkpoints/'\n",
    "torch.save(net.state_dict(), os.path.join(CHECKPOINT_FOLDER, checkpoint_name))"
   ]
  },
  {
   "cell_type": "code",
   "execution_count": 334,
   "metadata": {},
   "outputs": [
    {
     "data": {
      "text/plain": [
       "(712, 7)"
      ]
     },
     "execution_count": 334,
     "metadata": {},
     "output_type": "execute_result"
    }
   ],
   "source": [
    "targets[0].shape"
   ]
  },
  {
   "cell_type": "code",
   "execution_count": 23,
   "metadata": {},
   "outputs": [],
   "source": [
    "a = targets[0][:,0]\n",
    "b = preds[0][:,0]"
   ]
  },
  {
   "cell_type": "code",
   "execution_count": 25,
   "metadata": {},
   "outputs": [
    {
     "data": {
      "text/plain": [
       "-4.667581994162225"
      ]
     },
     "execution_count": 25,
     "metadata": {},
     "output_type": "execute_result"
    }
   ],
   "source": [
    "r2_score(a,b)"
   ]
  },
  {
   "cell_type": "code",
   "execution_count": 26,
   "metadata": {},
   "outputs": [
    {
     "data": {
      "text/plain": [
       "<matplotlib.collections.PathCollection at 0x2529afb5748>"
      ]
     },
     "execution_count": 26,
     "metadata": {},
     "output_type": "execute_result"
    },
    {
     "data": {
      "image/png": "[encoded data removed]",
      "text/plain": [
       "<Figure size 432x288 with 1 Axes>"
      ]
     },
     "metadata": {
      "needs_background": "light"
     },
     "output_type": "display_data"
    }
   ],
   "source": []
  },
  {
   "cell_type": "code",
   "execution_count": null,
   "metadata": {},
   "outputs": [],
   "source": []
  }
 ],
 "metadata": {
  "kernelspec": {
   "display_name": "Python 3",
   "language": "python",
   "name": "python3"
  },
  "language_info": {
   "codemirror_mode": {
    "name": "ipython",
    "version": 3
   },
   "file_extension": ".py",
   "mimetype": "text/x-python",
   "name": "python",
   "nbconvert_exporter": "python",
   "pygments_lexer": "ipython3",
   "version": "3.7.4"
  }
 },
 "nbformat": 4,
 "nbformat_minor": 2
}
