{
 "cells": [
  {
   "cell_type": "code",
   "execution_count": 4,
   "metadata": {},
   "outputs": [],
   "source": [
    "import torch\n",
    "import torchvision.transforms as transforms\n",
    "import torchvision.models as models\n",
    "import torch.nn as nn\n",
    "import torch.optim as optim\n",
    "import torch.utils.data.dataset as dataset\n",
    "import numpy as np\n",
    "\n",
    "from dataset import TestDataset\n",
    "from model import *"
   ]
  },
  {
   "cell_type": "code",
   "execution_count": 5,
   "metadata": {},
   "outputs": [
    {
     "name": "stdout",
     "output_type": "stream",
     "text": [
      "cuda:0\n"
     ]
    }
   ],
   "source": [
    "device = torch.device(\"cuda:0\" if torch.cuda.is_available() else \"cpu\")\n",
    "print(device)"
   ]
  },
  {
   "cell_type": "code",
   "execution_count": 6,
   "metadata": {},
   "outputs": [
    {
     "data": {
      "text/plain": [
       "VGG(\n",
       "  (features): Sequential(\n",
       "    (0): Conv2d(9, 64, kernel_size=(3, 3), stride=(1, 1), padding=(1, 1))\n",
       "    (1): BatchNorm2d(64, eps=1e-05, momentum=0.1, affine=True, track_running_stats=True)\n",
       "    (2): ReLU(inplace=True)\n",
       "    (3): MaxPool2d(kernel_size=2, stride=2, padding=0, dilation=1, ceil_mode=False)\n",
       "    (4): Conv2d(64, 128, kernel_size=(3, 3), stride=(1, 1), padding=(1, 1))\n",
       "    (5): BatchNorm2d(128, eps=1e-05, momentum=0.1, affine=True, track_running_stats=True)\n",
       "    (6): ReLU(inplace=True)\n",
       "    (7): MaxPool2d(kernel_size=2, stride=2, padding=0, dilation=1, ceil_mode=False)\n",
       "    (8): Conv2d(128, 256, kernel_size=(3, 3), stride=(1, 1), padding=(1, 1))\n",
       "    (9): BatchNorm2d(256, eps=1e-05, momentum=0.1, affine=True, track_running_stats=True)\n",
       "    (10): ReLU(inplace=True)\n",
       "    (11): Conv2d(256, 256, kernel_size=(3, 3), stride=(1, 1), padding=(1, 1))\n",
       "    (12): BatchNorm2d(256, eps=1e-05, momentum=0.1, affine=True, track_running_stats=True)\n",
       "    (13): ReLU(inplace=True)\n",
       "    (14): MaxPool2d(kernel_size=2, stride=2, padding=0, dilation=1, ceil_mode=False)\n",
       "    (15): Conv2d(256, 512, kernel_size=(3, 3), stride=(1, 1), padding=(1, 1))\n",
       "    (16): BatchNorm2d(512, eps=1e-05, momentum=0.1, affine=True, track_running_stats=True)\n",
       "    (17): ReLU(inplace=True)\n",
       "    (18): Conv2d(512, 512, kernel_size=(3, 3), stride=(1, 1), padding=(1, 1))\n",
       "    (19): BatchNorm2d(512, eps=1e-05, momentum=0.1, affine=True, track_running_stats=True)\n",
       "    (20): ReLU(inplace=True)\n",
       "    (21): MaxPool2d(kernel_size=2, stride=2, padding=0, dilation=1, ceil_mode=False)\n",
       "    (22): Conv2d(512, 512, kernel_size=(3, 3), stride=(1, 1), padding=(1, 1))\n",
       "    (23): BatchNorm2d(512, eps=1e-05, momentum=0.1, affine=True, track_running_stats=True)\n",
       "    (24): ReLU(inplace=True)\n",
       "    (25): Conv2d(512, 512, kernel_size=(3, 3), stride=(1, 1), padding=(1, 1))\n",
       "    (26): BatchNorm2d(512, eps=1e-05, momentum=0.1, affine=True, track_running_stats=True)\n",
       "    (27): ReLU(inplace=True)\n",
       "    (28): MaxPool2d(kernel_size=2, stride=2, padding=0, dilation=1, ceil_mode=False)\n",
       "  )\n",
       "  (avgpool): AdaptiveAvgPool2d(output_size=(1, 1))\n",
       "  (classifier): Identity()\n",
       ")"
      ]
     },
     "execution_count": 6,
     "metadata": {},
     "output_type": "execute_result"
    }
   ],
   "source": [
    "# Load trained model\n",
    "net = initialize_model2()\n",
    "n_features = 512\n",
    "\n",
    "SAVED_MODEL_PATH = 'checkpoints/vgg11bn_2_4'\n",
    "net.load_state_dict(torch.load(SAVED_MODEL_PATH))\n",
    "\n",
    "# Freeze layers\n",
    "for param in net.parameters():\n",
    "    param.requires_grad = False\n",
    "    \n",
    "# We just want to apply the feature extractor for now\n",
    "net.classifier = nn.Identity()\n",
    "net.to(device)"
   ]
  },
  {
   "cell_type": "code",
   "execution_count": 7,
   "metadata": {},
   "outputs": [],
   "source": [
    "# Get dataset\n",
    "DATA_FILE = 'E:/xplore_data/data/images.h5'\n",
    "HEALTH_FILE = 'data/dhs_gps.csv'\n",
    "dimages = TestDataset(DATA_FILE, HEALTH_FILE)\n",
    "dimagesloader = torch.utils.data.DataLoader(dimages, batch_size=64, shuffle=False, num_workers=0)"
   ]
  },
  {
   "cell_type": "code",
   "execution_count": 8,
   "metadata": {},
   "outputs": [],
   "source": [
    "# Apply feature extractor to the dataset\n",
    "n = len(dimages)\n",
    "extracted_features = torch.zeros(n, n_features+11+1)\n",
    "i = 0\n",
    "# Iterate over data.\n",
    "for x, _, z in dimagesloader:\n",
    "    x = x.to(device)\n",
    "    j = i + x.shape[0]\n",
    "    with torch.set_grad_enabled(False):\n",
    "        outputs = net(x)\n",
    "        extracted_features[i:j, :n_features] = torch.squeeze(outputs).cpu()\n",
    "        extracted_features[i:j, n_features:n_features+11] = z[:, 14:25]\n",
    "        extracted_features[i:j, n_features+11] = z[:, 3:14].mean(axis=1)\n",
    "    i += 64"
   ]
  },
  {
   "cell_type": "code",
   "execution_count": 9,
   "metadata": {},
   "outputs": [
    {
     "data": {
      "text/plain": [
       "tensor([], size=(0, 2), dtype=torch.int64)"
      ]
     },
     "execution_count": 9,
     "metadata": {},
     "output_type": "execute_result"
    }
   ],
   "source": [
    "torch.isnan(extracted_features).nonzero()"
   ]
  },
  {
   "cell_type": "code",
   "execution_count": 16,
   "metadata": {},
   "outputs": [],
   "source": [
    "torch.save(extracted_features, 'data/extracted_features_7_0.pt')"
   ]
  },
  {
   "cell_type": "code",
   "execution_count": 10,
   "metadata": {},
   "outputs": [],
   "source": [
    "dfeatures = dataset.TensorDataset(extracted_features)\n",
    "\n",
    "# Randomly split this dataset into train and test.\n",
    "dtrain, dtest = dataset.random_split(dfeatures, (n - (n//5), n//5))"
   ]
  },
  {
   "cell_type": "code",
   "execution_count": 11,
   "metadata": {},
   "outputs": [
    {
     "name": "stdout",
     "output_type": "stream",
     "text": [
      "(tensor([2.1797e-01, 1.0737e+00, 7.0585e-01, 2.9724e-01, 3.1431e-02, 8.0951e-01,\n",
      "        1.0346e-01, 8.7693e-01, 1.9167e-01, 7.7996e-01, 3.9781e-01, 3.1805e-01,\n",
      "        2.0960e-01, 1.4962e+00, 2.1093e-01, 1.0088e+00, 2.4681e-01, 4.4699e-01,\n",
      "        6.6468e-02, 3.6774e-01, 4.6805e-02, 5.7879e-01, 2.8967e-02, 1.0502e-01,\n",
      "        1.1837e+00, 9.6163e-01, 1.2119e+00, 6.2948e-01, 1.5520e-01, 7.1309e-01,\n",
      "        2.3984e-01, 7.8945e-01, 1.4609e+00, 3.3185e-01, 1.4897e-02, 2.1340e-01,\n",
      "        5.4468e-01, 7.1525e-02, 1.1138e-01, 1.5717e-01, 3.8052e-01, 2.1327e-01,\n",
      "        1.4530e-01, 1.0995e+00, 5.2661e-02, 2.3954e-02, 3.8900e-01, 2.8578e-01,\n",
      "        8.1708e-01, 2.6616e-01, 4.0948e-01, 9.8484e-01, 8.7943e-01, 4.9713e-01,\n",
      "        9.9372e-01, 7.0245e-01, 4.8479e-02, 7.1629e-01, 1.1005e+00, 1.5944e-01,\n",
      "        3.5356e-01, 2.6040e-01, 8.1439e-01, 6.0648e-02, 1.0158e+00, 8.3280e-01,\n",
      "        7.1181e-02, 2.8036e-01, 3.2519e-02, 6.1546e-01, 8.0365e-01, 4.1340e-01,\n",
      "        5.1685e-01, 4.3176e-01, 2.4047e-01, 8.4303e-02, 6.7066e-01, 7.8305e-01,\n",
      "        9.1738e-01, 3.9626e-01, 9.4785e-03, 2.2369e-01, 1.6243e-01, 7.5868e-01,\n",
      "        1.1797e-01, 3.9297e-02, 3.9013e-01, 5.2503e-01, 2.2291e-01, 4.6659e-01,\n",
      "        1.8987e-02, 4.7696e-02, 5.2625e-02, 3.1226e-02, 6.4975e-01, 3.9436e-01,\n",
      "        1.8250e-01, 1.3658e-01, 2.6118e-02, 3.8739e-01, 2.4657e-01, 8.1548e-01,\n",
      "        1.0307e+00, 2.0113e-01, 1.0174e+00, 8.4239e-02, 8.7468e-01, 8.1216e-01,\n",
      "        1.0591e-01, 7.3977e-01, 7.5827e-01, 7.0596e-01, 5.2876e-01, 5.8894e-02,\n",
      "        2.6894e-01, 1.0958e+00, 2.4768e-02, 1.2081e-01, 1.0415e+00, 4.4679e-01,\n",
      "        1.3860e-01, 5.8602e-01, 6.8824e-01, 4.7799e-01, 5.0938e-02, 2.4429e-01,\n",
      "        2.9355e-02, 1.1085e+00, 3.3557e-01, 9.1631e-01, 2.6300e-01, 8.9705e-01,\n",
      "        2.9437e-02, 1.0538e-02, 8.1476e-01, 1.1163e+00, 7.8944e-01, 2.7271e-02,\n",
      "        5.8251e-01, 7.5788e-02, 2.3147e-01, 2.9991e-02, 2.3790e-01, 3.7209e-01,\n",
      "        6.5123e-01, 6.6718e-01, 1.0480e-01, 3.6994e-01, 9.0764e-01, 3.8490e-01,\n",
      "        7.0146e-01, 4.5506e-01, 4.0940e-02, 7.6150e-01, 5.9169e-02, 4.9583e-02,\n",
      "        5.7865e-02, 8.3581e-01, 5.2808e-01, 7.2660e-01, 8.7835e-01, 7.4736e-01,\n",
      "        6.0376e-02, 5.7908e-03, 3.5775e-02, 9.0456e-01, 1.0646e+00, 4.7408e-02,\n",
      "        1.0830e+00, 3.9840e-01, 6.3631e-01, 1.6178e-01, 4.5410e-01, 3.8310e-02,\n",
      "        9.8838e-01, 6.7147e-01, 8.2286e-01, 4.0517e-02, 9.5990e-01, 6.0592e-01,\n",
      "        6.0223e-01, 4.6492e-01, 7.9989e-02, 9.4991e-01, 2.9843e-02, 6.9951e-02,\n",
      "        0.0000e+00, 8.8129e-01, 8.5313e-01, 6.2061e-01, 1.7503e-01, 7.7155e-01,\n",
      "        8.9687e-01, 7.4129e-01, 3.4311e-01, 5.7607e-01, 7.3432e-01, 6.1250e-02,\n",
      "        9.7084e-01, 7.7794e-01, 1.1655e+00, 2.9214e-02, 4.3971e-01, 1.0044e+00,\n",
      "        6.4687e-02, 2.0528e-01, 5.5816e-01, 7.3722e-01, 5.0056e-01, 1.0913e+00,\n",
      "        2.8100e-03, 6.5181e-01, 7.9443e-02, 7.9207e-02, 5.5754e-01, 9.4362e-02,\n",
      "        9.0502e-01, 1.9292e-02, 2.3339e-01, 1.9150e-01, 2.5449e-02, 2.3582e-01,\n",
      "        1.0849e+00, 2.2726e-01, 2.1119e-01, 2.0546e-01, 5.3782e-02, 9.3639e-01,\n",
      "        1.2200e+00, 7.7303e-02, 6.0658e-02, 1.0685e+00, 2.5912e-01, 8.9775e-01,\n",
      "        1.4000e+00, 2.4953e-02, 1.9714e-01, 9.1745e-02, 9.0378e-01, 7.9952e-02,\n",
      "        4.8146e-02, 8.3043e-01, 6.1003e-01, 6.2847e-02, 9.3932e-02, 1.7107e-01,\n",
      "        6.4753e-01, 5.1359e-01, 4.4203e-01, 3.2641e-01, 5.9179e-01, 1.8569e-01,\n",
      "        1.4379e+00, 7.7022e-01, 5.7986e-02, 2.4469e-01, 9.5423e-01, 2.3153e-01,\n",
      "        6.7880e-02, 5.6582e-01, 1.5553e-01, 1.8111e-01, 3.1907e-01, 8.6551e-01,\n",
      "        9.7310e-02, 2.9537e-02, 7.1620e-01, 6.6497e-01, 7.8225e-01, 8.7991e-01,\n",
      "        7.5951e-01, 3.9616e-01, 8.0558e-01, 1.1118e+00, 8.1921e-01, 2.5621e-01,\n",
      "        6.7577e-01, 8.6524e-02, 4.3692e-01, 5.7039e-03, 2.2363e-02, 6.2857e-01,\n",
      "        2.8805e-01, 1.0484e-01, 1.0268e+00, 4.2028e-02, 5.6429e-01, 6.7066e-01,\n",
      "        6.7921e-01, 1.2517e+00, 8.0814e-01, 7.2489e-02, 9.9222e-01, 4.7706e-01,\n",
      "        5.9587e-01, 1.0550e-01, 8.2152e-01, 5.8619e-01, 5.9297e-01, 9.5684e-01,\n",
      "        7.9042e-01, 2.6529e-01, 1.2725e-01, 3.1210e-01, 9.3807e-01, 9.0882e-01,\n",
      "        5.5084e-01, 3.5238e-01, 1.0893e+00, 1.4689e-01, 9.4683e-02, 4.9239e-01,\n",
      "        6.8061e-01, 1.2606e+00, 1.0600e+00, 5.4620e-01, 4.7517e-02, 2.3664e-01,\n",
      "        4.6377e-02, 2.2606e-01, 9.2927e-01, 1.0488e+00, 4.5820e-01, 2.8168e-01,\n",
      "        9.5774e-01, 3.1064e-02, 1.0056e-01, 7.5878e-01, 4.1198e-01, 7.3250e-01,\n",
      "        4.9633e-01, 2.0575e-01, 1.1135e+00, 1.0574e+00, 2.6154e-01, 2.3604e-02,\n",
      "        5.2870e-01, 3.6942e-01, 5.8919e-01, 7.4934e-01, 6.5916e-01, 3.8184e-02,\n",
      "        9.1229e-01, 1.0302e+00, 5.8670e-01, 5.6525e-02, 1.0475e+00, 2.1486e-01,\n",
      "        1.1236e+00, 2.1155e-01, 4.1798e-01, 1.8988e-01, 2.9122e-02, 1.7409e-01,\n",
      "        1.1978e-01, 2.6636e-01, 9.3789e-01, 3.4898e-01, 5.2580e-03, 7.0244e-01,\n",
      "        7.7671e-01, 3.4470e-02, 9.3375e-02, 2.0248e-01, 6.6515e-01, 8.6949e-02,\n",
      "        4.2208e-01, 4.3621e-02, 7.4560e-01, 7.8915e-02, 1.3237e-01, 2.2243e-01,\n",
      "        3.6755e-02, 9.2645e-01, 6.1117e-01, 7.6507e-02, 1.8437e-02, 5.4916e-02,\n",
      "        6.3662e-01, 1.2764e+00, 1.3534e+00, 2.2353e-01, 3.6273e-01, 5.4979e-01,\n",
      "        1.1014e-01, 4.9709e-01, 9.3337e-02, 5.7474e-02, 2.1733e-02, 9.2966e-02,\n",
      "        5.0063e-01, 9.9398e-02, 6.6747e-01, 5.1234e-01, 3.6398e-01, 2.2733e-01,\n",
      "        7.1920e-02, 1.4193e+00, 3.3110e-01, 1.0866e-01, 3.1826e-02, 5.9183e-01,\n",
      "        4.9147e-01, 4.2858e-01, 2.2613e-01, 9.3463e-01, 8.4887e-01, 1.0387e+00,\n",
      "        1.7416e-01, 5.2456e-01, 2.4567e-01, 2.6569e-01, 5.6537e-01, 3.8354e-01,\n",
      "        5.9363e-01, 4.7712e-01, 8.1059e-01, 5.8385e-01, 1.0802e+00, 4.0059e-01,\n",
      "        2.6964e-01, 5.0265e-01, 8.2903e-01, 4.6483e-01, 6.3478e-01, 1.2049e+00,\n",
      "        1.4616e+00, 1.5691e+00, 9.6772e-01, 4.4989e-02, 5.4346e-01, 7.9461e-01,\n",
      "        8.1180e-01, 1.2197e+00, 8.0529e-01, 1.1098e-01, 3.8645e-02, 4.8931e-02,\n",
      "        8.2342e-01, 1.0240e+00, 7.7086e-01, 7.5464e-01, 1.4204e-01, 3.0043e-01,\n",
      "        4.0111e-01, 6.0766e-02, 3.4864e-02, 5.0195e-01, 4.9560e-01, 8.5908e-01,\n",
      "        5.1570e-01, 6.8605e-01, 6.3843e-01, 1.5176e-02, 7.3699e-01, 1.6081e-01,\n",
      "        7.8623e-01, 8.6449e-01, 2.3569e-01, 1.1558e+00, 5.5204e-01, 6.1308e-01,\n",
      "        2.7887e-01, 8.3568e-01, 7.3151e-01, 3.4790e-01, 7.7609e-01, 1.0102e+00,\n",
      "        4.3516e-01, 6.1131e-01, 1.2013e+00, 1.2671e-01, 3.0099e-01, 8.9740e-01,\n",
      "        5.4569e-01, 2.2242e-02, 7.6048e-03, 1.8425e-01, 8.0905e-01, 1.8899e-01,\n",
      "        3.6837e-01, 6.0291e-01, 6.8982e-01, 1.3132e+00, 1.2026e+00, 7.4017e-01,\n",
      "        7.9205e-01, 6.0409e-01, 1.7726e-01, 8.3117e-01, 1.7044e-01, 3.5468e-01,\n",
      "        9.8527e-01, 7.1900e-02, 5.6022e-01, 4.5902e-01, 1.3028e-01, 2.2708e-01,\n",
      "        1.9373e-01, 5.0859e-01, 4.5510e-01, 2.3268e-01, 3.1207e-01, 7.0193e-01,\n",
      "        8.2026e-01, 5.8205e-03, 1.0944e-01, 8.4643e-01, 3.2438e-01, 3.6045e-01,\n",
      "        3.1516e-01, 2.9591e-01, 8.8000e-01, 4.4000e-01, 6.0000e-01, 4.8000e-01,\n",
      "        2.4000e-01, 4.4000e-01, 8.8000e-01, 6.8000e-01, 3.2000e-01, 2.8000e-01,\n",
      "        9.6000e-01, 2.5000e+01]),)\n",
      "torch.Size([524])\n"
     ]
    }
   ],
   "source": [
    "print(dfeatures.__getitem__(0))\n",
    "print(dfeatures.__getitem__(0)[0].shape)"
   ]
  },
  {
   "cell_type": "code",
   "execution_count": 68,
   "metadata": {},
   "outputs": [],
   "source": [
    "# Train the predictor model\n",
    "def train_model(model, dataloader, optimizer, scheduler, num_epochs=4, test_loader=None):\n",
    "    for epoch in range(num_epochs+1):\n",
    "        if epoch % 50 == 0:\n",
    "            print('Epoch {}/{}: '.format(epoch, num_epochs - 1), end='')\n",
    "\n",
    "        model.train()\n",
    "        running_loss = 0.0\n",
    "        criterion = nn.BCEWithLogitsLoss(reduction='none')\n",
    "#         criterion = nn.MSELoss(reduction='none')\n",
    "\n",
    "        # Iterate over data.\n",
    "        for rows in dataloader:\n",
    "            x = rows[0][:, :n_features].to(device)\n",
    "#             y = rows[0][:, n_features+3].to(device)\n",
    "            y = rows[0][:, n_features:n_features+11].to(device)\n",
    "#             wt = rows[0][:, n_features+11].to(device)\n",
    "#             wt = wt / wt.sum() * x.shape[0] #give the weights an avg of 1\n",
    "            \n",
    "            # zero the parameter gradients\n",
    "            optimizer.zero_grad()\n",
    "\n",
    "            # forward\n",
    "            # track history if only in train\n",
    "            with torch.set_grad_enabled(True):\n",
    "                outputs = model(x).squeeze()\n",
    "#                 print(outputs.shape)\n",
    "#                 print(y.shape)\n",
    "#                 loss = torch.sum(criterion(outputs, y).mean(axis=1) * wt)\n",
    "                loss = torch.mean(criterion(outputs, y))\n",
    "                loss.backward()\n",
    "                optimizer.step()\n",
    "                if scheduler is not None:\n",
    "                    scheduler.step()\n",
    "\n",
    "            # statistics\n",
    "            running_loss += loss.item() * x.size(0)\n",
    "\n",
    "        epoch_loss = running_loss / len(dtrain)\n",
    "        if epoch % 50 == 0:\n",
    "            print('Training loss: {:.4f}; '.format(epoch_loss), end='')\n",
    "        test_loss = 0.0\n",
    "        \n",
    "        if test_loader is not None:\n",
    "            for rows in test_loader:\n",
    "                x = rows[0][:, :n_features].to(device)\n",
    "#                 y = rows[0][:, n_features+3].to(device)\n",
    "                y = rows[0][:, n_features:n_features+11].to(device)\n",
    "#             wt = rows[0][:, n_features+11].to(device)\n",
    "#             wt = wt / wt.sum()\n",
    "\n",
    "                # forward\n",
    "                # track history if only in train\n",
    "                with torch.set_grad_enabled(False):\n",
    "                    outputs = model(x).squeeze()\n",
    "#                 loss = torch.sum(criterion(outputs, y).mean(axis=1) * wt)\n",
    "                    loss = torch.mean(criterion(outputs, y))\n",
    "\n",
    "                # statistics\n",
    "                test_loss += loss.item() * x.size(0)\n",
    "        test_loss /= len(dtest)\n",
    "        if epoch % 50 == 0:\n",
    "            print('Test loss: {:.4f}'.format(test_loss))\n",
    "\n",
    "    return model\n"
   ]
  },
  {
   "cell_type": "code",
   "execution_count": 69,
   "metadata": {},
   "outputs": [
    {
     "data": {
      "text/plain": [
       "Sequential(\n",
       "  (0): Linear(in_features=512, out_features=11, bias=True)\n",
       ")"
      ]
     },
     "execution_count": 69,
     "metadata": {},
     "output_type": "execute_result"
    }
   ],
   "source": [
    "# Simple neural network to predict healthcare\n",
    "predictor = nn.Sequential(\n",
    "#     nn.Linear(n_features, 512),\n",
    "    nn.Linear(512, 11)\n",
    ")\n",
    "predictor.to(device)"
   ]
  },
  {
   "cell_type": "code",
   "execution_count": 70,
   "metadata": {},
   "outputs": [],
   "source": [
    "BATCH_SIZE = 889\n",
    "EPOCHS = 1000\n",
    "\n",
    "# Data loader\n",
    "dloader = torch.utils.data.DataLoader(dtrain, batch_size=BATCH_SIZE, shuffle=True, num_workers=0)\n",
    "dtestloader = torch.utils.data.DataLoader(dtest, batch_size=512, shuffle=False, num_workers=0)\n",
    "# Create training optimizer\n",
    "optimizer = optim.Adam(predictor.parameters(), lr=0.01, weight_decay=0.001)\n",
    "scheduler = optim.lr_scheduler.StepLR(optimizer, step_size=50, gamma=0.7)\n"
   ]
  },
  {
   "cell_type": "code",
   "execution_count": 71,
   "metadata": {},
   "outputs": [
    {
     "name": "stdout",
     "output_type": "stream",
     "text": [
      "Epoch 0/999: Training loss: 0.7025; Test loss: 1.2143\n",
      "Epoch 50/999: Training loss: 0.6248; Test loss: 0.6271\n",
      "Epoch 100/999: Training loss: 0.6120; Test loss: 0.6194\n",
      "Epoch 150/999: Training loss: 0.6045; Test loss: 0.6152\n",
      "Epoch 200/999: Training loss: 0.5994; Test loss: 0.6125\n",
      "Epoch 250/999: Training loss: 0.5960; Test loss: 0.6107\n",
      "Epoch 300/999: Training loss: 0.5936; Test loss: 0.6094\n",
      "Epoch 350/999: Training loss: 0.5920; Test loss: 0.6086\n",
      "Epoch 400/999: Training loss: 0.5908; Test loss: 0.6080\n",
      "Epoch 450/999: Training loss: 0.5899; Test loss: 0.6075\n",
      "Epoch 500/999: Training loss: 0.5893; Test loss: 0.6072\n",
      "Epoch 550/999: Training loss: 0.5888; Test loss: 0.6070\n",
      "Epoch 600/999: Training loss: 0.5885; Test loss: 0.6068\n",
      "Epoch 650/999: Training loss: 0.5883; Test loss: 0.6067\n",
      "Epoch 700/999: Training loss: 0.5881; Test loss: 0.6066\n",
      "Epoch 750/999: Training loss: 0.5880; Test loss: 0.6065\n",
      "Epoch 800/999: Training loss: 0.5879; Test loss: 0.6065\n",
      "Epoch 850/999: Training loss: 0.5878; Test loss: 0.6065\n",
      "Epoch 900/999: Training loss: 0.5878; Test loss: 0.6064\n",
      "Epoch 950/999: Training loss: 0.5877; Test loss: 0.6064\n",
      "Epoch 1000/999: Training loss: 0.5877; Test loss: 0.6064\n"
     ]
    }
   ],
   "source": [
    "predictor = train_model(predictor, dloader, optimizer, scheduler, \n",
    "                        num_epochs=EPOCHS, test_loader=dtestloader)"
   ]
  },
  {
   "cell_type": "code",
   "execution_count": 72,
   "metadata": {},
   "outputs": [],
   "source": [
    "# Compute r-squared for training and test set\n",
    "with torch.no_grad():\n",
    "    split = [dtrain.indices, dtest.indices]\n",
    "    tensor_inputs = [extracted_features[x, :n_features].to(device) for x in split]\n",
    "    targets = [extracted_features[x, n_features:n_features+11].numpy() for x in split]\n",
    "    preds = [torch.sigmoid(predictor(x)).cpu().numpy() for x in tensor_inputs]"
   ]
  },
  {
   "cell_type": "code",
   "execution_count": 73,
   "metadata": {},
   "outputs": [
    {
     "name": "stdout",
     "output_type": "stream",
     "text": [
      "[(712, 11), (177, 11)]\n",
      "[(712, 11), (177, 11)]\n"
     ]
    }
   ],
   "source": [
    "print([x.shape for x in targets])\n",
    "print([x.shape for x in preds])"
   ]
  },
  {
   "cell_type": "code",
   "execution_count": 74,
   "metadata": {},
   "outputs": [
    {
     "name": "stdout",
     "output_type": "stream",
     "text": [
      "0.3794, 0.2437\n",
      "0.3894, 0.2661\n",
      "0.3756, 0.2328\n",
      "0.3690, 0.2420\n",
      "0.3606, 0.2530\n",
      "0.3461, 0.2489\n",
      "0.2821, 0.0920\n",
      "0.2685, 0.0669\n",
      "0.1980, 0.0273\n",
      "0.3551, 0.2460\n",
      "0.2585, 0.0625\n"
     ]
    }
   ],
   "source": [
    "from sklearn.metrics import r2_score\n",
    "for i in range(11):\n",
    "    r2s = [r2_score(y[:, i], pred[:, i]) for y, pred in zip(targets, preds)]\n",
    "    print('%.4f, %.4f' % tuple(r2s))"
   ]
  },
  {
   "cell_type": "code",
   "execution_count": 59,
   "metadata": {},
   "outputs": [
    {
     "data": {
      "image/png": "[encoded data removed]",
      "text/plain": [
       "<Figure size 432x288 with 1 Axes>"
      ]
     },
     "metadata": {
      "needs_background": "light"
     },
     "output_type": "display_data"
    }
   ],
   "source": [
    "import matplotlib.pyplot as plt\n",
    "j=3\n",
    "plt.scatter(preds[0][:, j], targets[0][:,j])\n",
    "plt.show()"
   ]
  },
  {
   "cell_type": "code",
   "execution_count": 60,
   "metadata": {},
   "outputs": [
    {
     "data": {
      "image/png": "[encoded data removed]",
      "text/plain": [
       "<Figure size 432x288 with 1 Axes>"
      ]
     },
     "metadata": {
      "needs_background": "light"
     },
     "output_type": "display_data"
    }
   ],
   "source": [
    "plt.scatter(preds[1][:,j], targets[1][:,j])\n",
    "plt.show()"
   ]
  },
  {
   "cell_type": "code",
   "execution_count": 65,
   "metadata": {},
   "outputs": [],
   "source": [
    "from sklearn.linear_model import Ridge"
   ]
  },
  {
   "cell_type": "code",
   "execution_count": 113,
   "metadata": {},
   "outputs": [
    {
     "name": "stdout",
     "output_type": "stream",
     "text": [
      "0.3167801540702508\n",
      "-0.04224168877197516\n"
     ]
    },
    {
     "name": "stderr",
     "output_type": "stream",
     "text": [
      "E:\\Anaconda\\envs\\xplore\\lib\\site-packages\\sklearn\\base.py:420: FutureWarning: The default value of multioutput (not exposed in score method) will change from 'variance_weighted' to 'uniform_average' in 0.23 to keep consistent with 'metrics.r2_score'. To specify the default value manually and avoid the warning, please either call 'metrics.r2_score' directly or make a custom scorer with 'metrics.make_scorer' (the built-in scorer 'r2' uses multioutput='uniform_average').\n",
      "  \"multioutput='uniform_average').\", FutureWarning)\n",
      "E:\\Anaconda\\envs\\xplore\\lib\\site-packages\\sklearn\\base.py:420: FutureWarning: The default value of multioutput (not exposed in score method) will change from 'variance_weighted' to 'uniform_average' in 0.23 to keep consistent with 'metrics.r2_score'. To specify the default value manually and avoid the warning, please either call 'metrics.r2_score' directly or make a custom scorer with 'metrics.make_scorer' (the built-in scorer 'r2' uses multioutput='uniform_average').\n",
      "  \"multioutput='uniform_average').\", FutureWarning)\n"
     ]
    }
   ],
   "source": [
    "clf = Ridge(alpha=0.01)\n",
    "arrays = [extracted_features[x, :n_features] for x in split]\n",
    "targets = [extracted_features[x, n_features:n_features+11].numpy() for x in split]\n",
    "clf.fit(arrays[0], targets[0])\n",
    "print(clf.score(arrays[0], targets[0]))\n",
    "print(clf.score(arrays[1], targets[1]))"
   ]
  },
  {
   "cell_type": "code",
   "execution_count": 114,
   "metadata": {},
   "outputs": [
    {
     "data": {
      "image/png": "[encoded data removed]",
      "text/plain": [
       "<Figure size 432x288 with 1 Axes>"
      ]
     },
     "metadata": {
      "needs_background": "light"
     },
     "output_type": "display_data"
    }
   ],
   "source": [
    "import matplotlib.pyplot as plt\n",
    "plt.scatter(clf.predict(arrays[0]), targets[0])\n",
    "plt.show()"
   ]
  },
  {
   "cell_type": "code",
   "execution_count": 115,
   "metadata": {},
   "outputs": [
    {
     "data": {
      "image/png": "[encoded data removed]",
      "text/plain": [
       "<Figure size 432x288 with 1 Axes>"
      ]
     },
     "metadata": {
      "needs_background": "light"
     },
     "output_type": "display_data"
    }
   ],
   "source": [
    "\n",
    "plt.scatter(clf.predict(arrays[1]), targets[1])\n",
    "plt.show()"
   ]
  },
  {
   "cell_type": "code",
   "execution_count": null,
   "metadata": {},
   "outputs": [],
   "source": []
  }
 ],
 "metadata": {
  "kernelspec": {
   "display_name": "Python 3",
   "language": "python",
   "name": "python3"
  },
  "language_info": {
   "codemirror_mode": {
    "name": "ipython",
    "version": 3
   },
   "file_extension": ".py",
   "mimetype": "text/x-python",
   "name": "python",
   "nbconvert_exporter": "python",
   "pygments_lexer": "ipython3",
   "version": "3.7.4"
  }
 },
 "nbformat": 4,
 "nbformat_minor": 2
}
