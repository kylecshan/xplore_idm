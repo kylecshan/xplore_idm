{
  "nbformat": 4,
  "nbformat_minor": 0,
  "metadata": {
    "colab": {
      "name": "getBuiltClusters.ipynb",
      "provenance": [],
      "collapsed_sections": [],
      "include_colab_link": true
    },
    "kernelspec": {
      "name": "python3",
      "display_name": "Python 3"
    }
  },
  "cells": [
    {
      "cell_type": "markdown",
      "metadata": {
        "id": "view-in-github",
        "colab_type": "text"
      },
      "source": [
        "<a href=\"https://colab.research.google.com/github/kylecshan/xplore_idm/blob/master/getBuiltClusters.ipynb\" target=\"_parent\"><img src=\"https://colab.research.google.com/assets/colab-badge.svg\" alt=\"Open In Colab\"/></a>"
      ]
    },
    {
      "cell_type": "markdown",
      "metadata": {
        "id": "e05A5ku60y3v",
        "colab_type": "text"
      },
      "source": [
        "##Import packages and authenticate"
      ]
    },
    {
      "cell_type": "code",
      "metadata": {
        "id": "xRqB8Jvb0w1j",
        "colab_type": "code",
        "colab": {}
      },
      "source": [
        "# Cloud authentication.\n",
        "from google.colab import auth\n",
        "auth.authenticate_user()"
      ],
      "execution_count": 0,
      "outputs": []
    },
    {
      "cell_type": "code",
      "metadata": {
        "id": "mayu-WDhyHSV",
        "colab_type": "code",
        "outputId": "0f08649c-fdb9-408c-cff7-97dc32037cd0",
        "colab": {
          "base_uri": "https://localhost:8080/",
          "height": 462
        }
      },
      "source": [
        "# Earth Engine install to notebook VM.\n",
        "!pip install earthengine-api"
      ],
      "execution_count": 0,
      "outputs": [
        {
          "output_type": "stream",
          "text": [
            "Requirement already satisfied: earthengine-api in /usr/local/lib/python3.6/dist-packages (0.1.206)\n",
            "Requirement already satisfied: google-cloud-storage in /usr/local/lib/python3.6/dist-packages (from earthengine-api) (1.16.2)\n",
            "Requirement already satisfied: httplib2<1dev,>=0.9.2 in /usr/local/lib/python3.6/dist-packages (from earthengine-api) (0.11.3)\n",
            "Requirement already satisfied: google-api-python-client in /usr/local/lib/python3.6/dist-packages (from earthengine-api) (1.7.11)\n",
            "Requirement already satisfied: google-auth>=1.4.1 in /usr/local/lib/python3.6/dist-packages (from earthengine-api) (1.4.2)\n",
            "Requirement already satisfied: google-auth-httplib2>=0.0.3 in /usr/local/lib/python3.6/dist-packages (from earthengine-api) (0.0.3)\n",
            "Requirement already satisfied: future in /usr/local/lib/python3.6/dist-packages (from earthengine-api) (0.16.0)\n",
            "Requirement already satisfied: six in /usr/local/lib/python3.6/dist-packages (from earthengine-api) (1.12.0)\n",
            "Requirement already satisfied: google-resumable-media<0.5.0dev,>=0.3.1 in /usr/local/lib/python3.6/dist-packages (from google-cloud-storage->earthengine-api) (0.4.1)\n",
            "Requirement already satisfied: google-cloud-core<2.0dev,>=1.0.0 in /usr/local/lib/python3.6/dist-packages (from google-cloud-storage->earthengine-api) (1.0.3)\n",
            "Requirement already satisfied: uritemplate<4dev,>=3.0.0 in /usr/local/lib/python3.6/dist-packages (from google-api-python-client->earthengine-api) (3.0.0)\n",
            "Requirement already satisfied: cachetools>=2.0.0 in /usr/local/lib/python3.6/dist-packages (from google-auth>=1.4.1->earthengine-api) (3.1.1)\n",
            "Requirement already satisfied: pyasn1-modules>=0.2.1 in /usr/local/lib/python3.6/dist-packages (from google-auth>=1.4.1->earthengine-api) (0.2.7)\n",
            "Requirement already satisfied: rsa>=3.1.4 in /usr/local/lib/python3.6/dist-packages (from google-auth>=1.4.1->earthengine-api) (4.0)\n",
            "Requirement already satisfied: google-api-core<2.0.0dev,>=1.14.0 in /usr/local/lib/python3.6/dist-packages (from google-cloud-core<2.0dev,>=1.0.0->google-cloud-storage->earthengine-api) (1.14.3)\n",
            "Requirement already satisfied: pyasn1<0.5.0,>=0.4.6 in /usr/local/lib/python3.6/dist-packages (from pyasn1-modules>=0.2.1->google-auth>=1.4.1->earthengine-api) (0.4.7)\n",
            "Requirement already satisfied: protobuf>=3.4.0 in /usr/local/lib/python3.6/dist-packages (from google-api-core<2.0.0dev,>=1.14.0->google-cloud-core<2.0dev,>=1.0.0->google-cloud-storage->earthengine-api) (3.10.0)\n",
            "Requirement already satisfied: setuptools>=34.0.0 in /usr/local/lib/python3.6/dist-packages (from google-api-core<2.0.0dev,>=1.14.0->google-cloud-core<2.0dev,>=1.0.0->google-cloud-storage->earthengine-api) (41.6.0)\n",
            "Requirement already satisfied: requests<3.0.0dev,>=2.18.0 in /usr/local/lib/python3.6/dist-packages (from google-api-core<2.0.0dev,>=1.14.0->google-cloud-core<2.0dev,>=1.0.0->google-cloud-storage->earthengine-api) (2.21.0)\n",
            "Requirement already satisfied: googleapis-common-protos<2.0dev,>=1.6.0 in /usr/local/lib/python3.6/dist-packages (from google-api-core<2.0.0dev,>=1.14.0->google-cloud-core<2.0dev,>=1.0.0->google-cloud-storage->earthengine-api) (1.6.0)\n",
            "Requirement already satisfied: pytz in /usr/local/lib/python3.6/dist-packages (from google-api-core<2.0.0dev,>=1.14.0->google-cloud-core<2.0dev,>=1.0.0->google-cloud-storage->earthengine-api) (2018.9)\n",
            "Requirement already satisfied: urllib3<1.25,>=1.21.1 in /usr/local/lib/python3.6/dist-packages (from requests<3.0.0dev,>=2.18.0->google-api-core<2.0.0dev,>=1.14.0->google-cloud-core<2.0dev,>=1.0.0->google-cloud-storage->earthengine-api) (1.24.3)\n",
            "Requirement already satisfied: idna<2.9,>=2.5 in /usr/local/lib/python3.6/dist-packages (from requests<3.0.0dev,>=2.18.0->google-api-core<2.0.0dev,>=1.14.0->google-cloud-core<2.0dev,>=1.0.0->google-cloud-storage->earthengine-api) (2.8)\n",
            "Requirement already satisfied: certifi>=2017.4.17 in /usr/local/lib/python3.6/dist-packages (from requests<3.0.0dev,>=2.18.0->google-api-core<2.0.0dev,>=1.14.0->google-cloud-core<2.0dev,>=1.0.0->google-cloud-storage->earthengine-api) (2019.9.11)\n",
            "Requirement already satisfied: chardet<3.1.0,>=3.0.2 in /usr/local/lib/python3.6/dist-packages (from requests<3.0.0dev,>=2.18.0->google-api-core<2.0.0dev,>=1.14.0->google-cloud-core<2.0dev,>=1.0.0->google-cloud-storage->earthengine-api) (3.0.4)\n"
          ],
          "name": "stdout"
        }
      ]
    },
    {
      "cell_type": "code",
      "metadata": {
        "id": "8ZOlNq4gyIk9",
        "colab_type": "code",
        "outputId": "4b29b936-9252-48a0-b12c-2a6d49819884",
        "colab": {
          "base_uri": "https://localhost:8080/",
          "height": 173
        }
      },
      "source": [
        "# Import, authenticate and initialize the Earth Engine library.\n",
        "import ee\n",
        "ee.Authenticate()\n",
        "ee.Initialize()"
      ],
      "execution_count": 0,
      "outputs": [
        {
          "output_type": "stream",
          "text": [
            "To authorize access needed by Earth Engine, open the following URL in a web browser and follow the instructions. If the web browser does not start automatically, please manually browse the URL below.\n",
            "\n",
            "    https://accounts.google.com/o/oauth2/auth?client_id=517222506229-vsmmajv00ul0bs7p89v5m89qs8eb9359.apps.googleusercontent.com&scope=https%3A%2F%2Fwww.googleapis.com%2Fauth%2Fearthengine+https%3A%2F%2Fwww.googleapis.com%2Fauth%2Fdevstorage.full_control&redirect_uri=urn%3Aietf%3Awg%3Aoauth%3A2.0%3Aoob&response_type=code\n",
            "\n",
            "The authorization workflow will generate a code, which you should paste in the box below. \n",
            "Enter verification code: 4/tQHoEGQ4hD9Q9tknqYHMjrzBVEQAf1oTgRlh40be827R7K1toCsWWZ8\n",
            "\n",
            "Successfully saved authorization token.\n"
          ],
          "name": "stdout"
        }
      ]
    },
    {
      "cell_type": "markdown",
      "metadata": {
        "id": "gORCrNF_05dY",
        "colab_type": "text"
      },
      "source": [
        "## Configuration"
      ]
    },
    {
      "cell_type": "code",
      "metadata": {
        "id": "qaphNeiHzLIt",
        "colab_type": "code",
        "colab": {}
      },
      "source": [
        "# Specify names locations for outputs in Cloud Storage. \n",
        "BUCKET = 'xplore_idm_fall2019'\n",
        "FOLDER = 'built'"
      ],
      "execution_count": 0,
      "outputs": []
    },
    {
      "cell_type": "markdown",
      "metadata": {
        "id": "LWJPr9wD0-9B",
        "colab_type": "text"
      },
      "source": [
        "## Get images\n",
        "### Nigeria country border"
      ]
    },
    {
      "cell_type": "code",
      "metadata": {
        "id": "k1V9K3usyeoD",
        "colab_type": "code",
        "colab": {}
      },
      "source": [
        "nigeria = ee.FeatureCollection('USDOS/LSIB_SIMPLE/2017') \\\n",
        "  .filterMetadata('country_co', 'equals', 'NI') \\\n",
        "  .first();\n",
        "nigeria = ee.Feature(nigeria).geometry();"
      ],
      "execution_count": 0,
      "outputs": []
    },
    {
      "cell_type": "markdown",
      "metadata": {
        "id": "yGYidSY90-Qa",
        "colab_type": "text"
      },
      "source": [
        "### Built environment"
      ]
    },
    {
      "cell_type": "code",
      "metadata": {
        "id": "LxL3bNVNyxOl",
        "colab_type": "code",
        "colab": {}
      },
      "source": [
        "dataset = ee.Image('JRC/GHSL/P2016/BUILT_LDSMT_GLOBE_V1')\n",
        "built = dataset.select('built').clip(nigeria)"
      ],
      "execution_count": 0,
      "outputs": []
    },
    {
      "cell_type": "markdown",
      "metadata": {
        "id": "ZnkgYUgZ1MiR",
        "colab_type": "text"
      },
      "source": [
        "### Upscale night lights to match landsat, and sample data"
      ]
    },
    {
      "cell_type": "code",
      "metadata": {
        "id": "rXr2tWv4S18i",
        "colab_type": "code",
        "outputId": "4f6c6b86-ce2b-4f5f-c2b4-9dd2b4d0c2ba",
        "colab": {
          "resources": {
            "http://localhost:8080/nbextensions/google.colab/files.js": {
              "data": "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",
              "ok": true,
              "headers": [
                [
                  "content-type",
                  "application/javascript"
                ]
              ],
              "status": 200,
              "status_text": ""
            }
          },
          "base_uri": "https://localhost:8080/",
          "height": 74
        }
      },
      "source": [
        "from google.colab import files\n",
        "uploaded = files.upload()"
      ],
      "execution_count": 0,
      "outputs": [
        {
          "output_type": "display_data",
          "data": {
            "text/html": [
              "\n",
              "     <input type=\"file\" id=\"files-eb52e897-67fc-46a2-a46c-3964bdf3106d\" name=\"files[]\" multiple disabled />\n",
              "     <output id=\"result-eb52e897-67fc-46a2-a46c-3964bdf3106d\">\n",
              "      Upload widget is only available when the cell has been executed in the\n",
              "      current browser session. Please rerun this cell to enable.\n",
              "      </output>\n",
              "      <script src=\"/nbextensions/google.colab/files.js\"></script> "
            ],
            "text/plain": [
              "<IPython.core.display.HTML object>"
            ]
          },
          "metadata": {
            "tags": []
          }
        },
        {
          "output_type": "stream",
          "text": [
            "Saving dhs_gps.csv to dhs_gps.csv\n"
          ],
          "name": "stdout"
        }
      ]
    },
    {
      "cell_type": "code",
      "metadata": {
        "id": "sIRTv2TAcfx2",
        "colab_type": "code",
        "outputId": "f5daf2da-b2f2-42b7-e4d4-a3d3bc647067",
        "colab": {
          "base_uri": "https://localhost:8080/",
          "height": 323
        }
      },
      "source": [
        "import io\n",
        "import pandas as pd\n",
        "clusters = pd.read_csv(io.BytesIO(uploaded['dhs_gps.csv']))\n",
        "print(clusters)\n",
        "vaccines = clusters.columns[1:12]\n",
        "print(vaccines)\n",
        "clusters = clusters.to_numpy()\n",
        "n = clusters.shape[0]"
      ],
      "execution_count": 0,
      "outputs": [
        {
          "output_type": "stream",
          "text": [
            "     cluster_id  latitude  ...  health_card_mean  any_vacc_mean\n",
            "0             1  6.902270  ...          0.280000       0.960000\n",
            "1             2  7.854454  ...          0.571429       1.000000\n",
            "2             3  7.781454  ...          0.500000       0.777778\n",
            "3             4  7.176902  ...          0.142857       0.769231\n",
            "4             5  7.148612  ...          0.407407       0.764706\n",
            "..          ...       ...  ...               ...            ...\n",
            "884         900  7.368560  ...          0.947368       0.916667\n",
            "885         901  8.570109  ...          0.016129       0.370968\n",
            "886         902  8.765458  ...          0.586207       0.562500\n",
            "887         903  8.660406  ...          0.454545       0.400000\n",
            "888         904  8.687992  ...          0.735294       0.590909\n",
            "\n",
            "[889 rows x 25 columns]\n",
            "Index(['latitude', 'longitude', 'bcg_sum', 'measles_sum', 'dpt1_sum',\n",
            "       'dpt2_sum', 'dpt3_sum', 'polio0_sum', 'polio1_sum', 'polio2_sum',\n",
            "       'polio3_sum'],\n",
            "      dtype='object')\n"
          ],
          "name": "stdout"
        }
      ]
    },
    {
      "cell_type": "code",
      "metadata": {
        "id": "puUlTsnZmwil",
        "colab_type": "code",
        "colab": {}
      },
      "source": [
        "def clipExport(lat, lon, filename):\n",
        "  bounds = ee.Geometry.Point(lon, lat).buffer(5000).bounds()\n",
        "  task = ee.batch.Export.image.toCloudStorage(\n",
        "    image = built,\n",
        "    region = bounds.getInfo()['coordinates'],\n",
        "    description = filename,\n",
        "    bucket = BUCKET,\n",
        "    fileNamePrefix = FOLDER + '/' + filename,\n",
        "    scale = 38,\n",
        "    fileFormat = 'GeoTIFF',\n",
        "    fileDimensions = 1024\n",
        "  )\n",
        "  task.start()\n",
        "  return"
      ],
      "execution_count": 0,
      "outputs": []
    },
    {
      "cell_type": "code",
      "metadata": {
        "id": "--kJW3MSTear",
        "colab_type": "code",
        "colab": {}
      },
      "source": [
        "for k in range(200, 889):\n",
        "  description = 'built_' + str(int(clusters[k, 0])).rjust(3,'0')\n",
        "  clipExport(clusters[k, 1], clusters[k, 2], description)\n"
      ],
      "execution_count": 0,
      "outputs": []
    },
    {
      "cell_type": "code",
      "metadata": {
        "id": "De_au97qTxYN",
        "colab_type": "code",
        "outputId": "420944c0-865b-4ce0-eade-877546400226",
        "colab": {
          "base_uri": "https://localhost:8080/",
          "height": 34
        }
      },
      "source": [
        "clusters[k,3]"
      ],
      "execution_count": 0,
      "outputs": [
        {
          "output_type": "execute_result",
          "data": {
            "text/plain": [
              "47.0"
            ]
          },
          "metadata": {
            "tags": []
          },
          "execution_count": 35
        }
      ]
    },
    {
      "cell_type": "markdown",
      "metadata": {
        "id": "5TRsNyd61TNb",
        "colab_type": "text"
      },
      "source": [
        "### Check task status"
      ]
    },
    {
      "cell_type": "code",
      "metadata": {
        "id": "6onLR5XCyJwF",
        "colab_type": "code",
        "outputId": "56e8973e-2cf0-463e-a678-f896b1864578",
        "colab": {
          "base_uri": "https://localhost:8080/",
          "height": 1000
        }
      },
      "source": [
        "# Print all tasks.\n",
        "import pprint\n",
        "pp = pprint.PrettyPrinter()\n",
        "pp.pprint(ee.batch.Task.list()[:150])  "
      ],
      "execution_count": 0,
      "outputs": [
        {
          "output_type": "stream",
          "text": [
            "[<Task EXPORT_IMAGE: built_202 (READY)>,\n",
            " <Task EXPORT_IMAGE: built_201 (READY)>,\n",
            " <Task EXPORT_IMAGE: built_200 (READY)>,\n",
            " <Task EXPORT_IMAGE: built_199 (READY)>,\n",
            " <Task EXPORT_IMAGE: built_198 (READY)>,\n",
            " <Task EXPORT_IMAGE: built_197 (READY)>,\n",
            " <Task EXPORT_IMAGE: built_196 (READY)>,\n",
            " <Task EXPORT_IMAGE: built_195 (READY)>,\n",
            " <Task EXPORT_IMAGE: built_194 (READY)>,\n",
            " <Task EXPORT_IMAGE: built_193 (READY)>,\n",
            " <Task EXPORT_IMAGE: built_192 (READY)>,\n",
            " <Task EXPORT_IMAGE: built_191 (READY)>,\n",
            " <Task EXPORT_IMAGE: built_190 (READY)>,\n",
            " <Task EXPORT_IMAGE: built_189 (READY)>,\n",
            " <Task EXPORT_IMAGE: built_188 (READY)>,\n",
            " <Task EXPORT_IMAGE: built_187 (READY)>,\n",
            " <Task EXPORT_IMAGE: built_186 (READY)>,\n",
            " <Task EXPORT_IMAGE: built_185 (READY)>,\n",
            " <Task EXPORT_IMAGE: built_184 (READY)>,\n",
            " <Task EXPORT_IMAGE: built_183 (READY)>,\n",
            " <Task EXPORT_IMAGE: built_182 (READY)>,\n",
            " <Task EXPORT_IMAGE: built_181 (READY)>,\n",
            " <Task EXPORT_IMAGE: built_180 (READY)>,\n",
            " <Task EXPORT_IMAGE: built_179 (READY)>,\n",
            " <Task EXPORT_IMAGE: built_178 (READY)>,\n",
            " <Task EXPORT_IMAGE: built_177 (READY)>,\n",
            " <Task EXPORT_IMAGE: built_176 (READY)>,\n",
            " <Task EXPORT_IMAGE: built_175 (READY)>,\n",
            " <Task EXPORT_IMAGE: built_174 (READY)>,\n",
            " <Task EXPORT_IMAGE: built_173 (READY)>,\n",
            " <Task EXPORT_IMAGE: built_172 (READY)>,\n",
            " <Task EXPORT_IMAGE: built_171 (READY)>,\n",
            " <Task EXPORT_IMAGE: built_170 (READY)>,\n",
            " <Task EXPORT_IMAGE: built_169 (READY)>,\n",
            " <Task EXPORT_IMAGE: built_168 (READY)>,\n",
            " <Task EXPORT_IMAGE: built_167 (READY)>,\n",
            " <Task EXPORT_IMAGE: built_166 (READY)>,\n",
            " <Task EXPORT_IMAGE: built_164 (READY)>,\n",
            " <Task EXPORT_IMAGE: built_163 (READY)>,\n",
            " <Task EXPORT_IMAGE: built_162 (READY)>,\n",
            " <Task EXPORT_IMAGE: built_161 (READY)>,\n",
            " <Task EXPORT_IMAGE: built_160 (READY)>,\n",
            " <Task EXPORT_IMAGE: built_159 (READY)>,\n",
            " <Task EXPORT_IMAGE: built_158 (READY)>,\n",
            " <Task EXPORT_IMAGE: built_157 (READY)>,\n",
            " <Task EXPORT_IMAGE: built_156 (READY)>,\n",
            " <Task EXPORT_IMAGE: built_155 (READY)>,\n",
            " <Task EXPORT_IMAGE: built_154 (READY)>,\n",
            " <Task EXPORT_IMAGE: built_153 (READY)>,\n",
            " <Task EXPORT_IMAGE: built_152 (READY)>,\n",
            " <Task EXPORT_IMAGE: built_151 (COMPLETED)>,\n",
            " <Task EXPORT_IMAGE: built_150 (COMPLETED)>,\n",
            " <Task EXPORT_IMAGE: built_149 (COMPLETED)>,\n",
            " <Task EXPORT_IMAGE: built_148 (COMPLETED)>,\n",
            " <Task EXPORT_IMAGE: built_147 (COMPLETED)>,\n",
            " <Task EXPORT_IMAGE: built_146 (COMPLETED)>,\n",
            " <Task EXPORT_IMAGE: built_145 (COMPLETED)>,\n",
            " <Task EXPORT_IMAGE: built_144 (COMPLETED)>,\n",
            " <Task EXPORT_IMAGE: built_143 (COMPLETED)>,\n",
            " <Task EXPORT_IMAGE: built_142 (COMPLETED)>,\n",
            " <Task EXPORT_IMAGE: built_141 (COMPLETED)>,\n",
            " <Task EXPORT_IMAGE: built_140 (COMPLETED)>,\n",
            " <Task EXPORT_IMAGE: built_139 (COMPLETED)>,\n",
            " <Task EXPORT_IMAGE: built_138 (COMPLETED)>,\n",
            " <Task EXPORT_IMAGE: built_137 (COMPLETED)>,\n",
            " <Task EXPORT_IMAGE: built_136 (COMPLETED)>,\n",
            " <Task EXPORT_IMAGE: built_135 (COMPLETED)>,\n",
            " <Task EXPORT_IMAGE: built_134 (COMPLETED)>,\n",
            " <Task EXPORT_IMAGE: built_133 (COMPLETED)>,\n",
            " <Task EXPORT_IMAGE: built_132 (COMPLETED)>,\n",
            " <Task EXPORT_IMAGE: built_131 (COMPLETED)>,\n",
            " <Task EXPORT_IMAGE: built_130 (COMPLETED)>,\n",
            " <Task EXPORT_IMAGE: built_129 (COMPLETED)>,\n",
            " <Task EXPORT_IMAGE: built_128 (COMPLETED)>,\n",
            " <Task EXPORT_IMAGE: built_127 (COMPLETED)>,\n",
            " <Task EXPORT_IMAGE: built_126 (COMPLETED)>,\n",
            " <Task EXPORT_IMAGE: built_125 (COMPLETED)>,\n",
            " <Task EXPORT_IMAGE: built_124 (COMPLETED)>,\n",
            " <Task EXPORT_IMAGE: built_123 (COMPLETED)>,\n",
            " <Task EXPORT_IMAGE: built_122 (COMPLETED)>,\n",
            " <Task EXPORT_IMAGE: built_121 (COMPLETED)>,\n",
            " <Task EXPORT_IMAGE: built_120 (COMPLETED)>,\n",
            " <Task EXPORT_IMAGE: built_119 (COMPLETED)>,\n",
            " <Task EXPORT_IMAGE: built_118 (COMPLETED)>,\n",
            " <Task EXPORT_IMAGE: built_117 (COMPLETED)>,\n",
            " <Task EXPORT_IMAGE: built_116 (COMPLETED)>,\n",
            " <Task EXPORT_IMAGE: built_115 (COMPLETED)>,\n",
            " <Task EXPORT_IMAGE: built_113 (COMPLETED)>,\n",
            " <Task EXPORT_IMAGE: built_112 (COMPLETED)>,\n",
            " <Task EXPORT_IMAGE: built_111 (COMPLETED)>,\n",
            " <Task EXPORT_IMAGE: built_110 (COMPLETED)>,\n",
            " <Task EXPORT_IMAGE: built_109 (COMPLETED)>,\n",
            " <Task EXPORT_IMAGE: built_108 (COMPLETED)>,\n",
            " <Task EXPORT_IMAGE: built_107 (COMPLETED)>,\n",
            " <Task EXPORT_IMAGE: built_106 (COMPLETED)>,\n",
            " <Task EXPORT_IMAGE: built_105 (COMPLETED)>,\n",
            " <Task EXPORT_IMAGE: built_104 (COMPLETED)>,\n",
            " <Task EXPORT_IMAGE: built_103 (COMPLETED)>,\n",
            " <Task EXPORT_IMAGE: built_102 (COMPLETED)>,\n",
            " <Task EXPORT_IMAGE: built_101 (COMPLETED)>,\n",
            " <Task EXPORT_IMAGE: built_100 (COMPLETED)>,\n",
            " <Task EXPORT_IMAGE: built_099 (COMPLETED)>,\n",
            " <Task EXPORT_IMAGE: built_098 (COMPLETED)>,\n",
            " <Task EXPORT_IMAGE: built_097 (COMPLETED)>,\n",
            " <Task EXPORT_IMAGE: built_096 (COMPLETED)>,\n",
            " <Task EXPORT_IMAGE: built_095 (COMPLETED)>,\n",
            " <Task EXPORT_IMAGE: built_094 (COMPLETED)>,\n",
            " <Task EXPORT_IMAGE: built_093 (COMPLETED)>,\n",
            " <Task EXPORT_IMAGE: built_092 (COMPLETED)>,\n",
            " <Task EXPORT_IMAGE: built_091 (COMPLETED)>,\n",
            " <Task EXPORT_IMAGE: built_090 (COMPLETED)>,\n",
            " <Task EXPORT_IMAGE: built_089 (COMPLETED)>,\n",
            " <Task EXPORT_IMAGE: built_088 (COMPLETED)>,\n",
            " <Task EXPORT_IMAGE: built_087 (COMPLETED)>,\n",
            " <Task EXPORT_IMAGE: built_086 (COMPLETED)>,\n",
            " <Task EXPORT_IMAGE: built_085 (COMPLETED)>,\n",
            " <Task EXPORT_IMAGE: built_084 (COMPLETED)>,\n",
            " <Task EXPORT_IMAGE: built_083 (COMPLETED)>,\n",
            " <Task EXPORT_IMAGE: built_082 (COMPLETED)>,\n",
            " <Task EXPORT_IMAGE: built_081 (COMPLETED)>,\n",
            " <Task EXPORT_IMAGE: built_080 (COMPLETED)>,\n",
            " <Task EXPORT_IMAGE: built_079 (COMPLETED)>,\n",
            " <Task EXPORT_IMAGE: built_078 (COMPLETED)>,\n",
            " <Task EXPORT_IMAGE: built_077 (COMPLETED)>,\n",
            " <Task EXPORT_IMAGE: built_076 (COMPLETED)>,\n",
            " <Task EXPORT_IMAGE: built_075 (COMPLETED)>,\n",
            " <Task EXPORT_IMAGE: built_074 (COMPLETED)>,\n",
            " <Task EXPORT_IMAGE: built_073 (COMPLETED)>,\n",
            " <Task EXPORT_IMAGE: built_072 (COMPLETED)>,\n",
            " <Task EXPORT_IMAGE: built_071 (COMPLETED)>,\n",
            " <Task EXPORT_IMAGE: built_070 (COMPLETED)>,\n",
            " <Task EXPORT_IMAGE: built_069 (COMPLETED)>,\n",
            " <Task EXPORT_IMAGE: built_068 (COMPLETED)>,\n",
            " <Task EXPORT_IMAGE: built_067 (COMPLETED)>,\n",
            " <Task EXPORT_IMAGE: built_066 (COMPLETED)>,\n",
            " <Task EXPORT_IMAGE: built_065 (COMPLETED)>,\n",
            " <Task EXPORT_IMAGE: built_064 (COMPLETED)>,\n",
            " <Task EXPORT_IMAGE: built_063 (COMPLETED)>,\n",
            " <Task EXPORT_IMAGE: built_062 (COMPLETED)>,\n",
            " <Task EXPORT_IMAGE: built_061 (COMPLETED)>,\n",
            " <Task EXPORT_IMAGE: built_060 (COMPLETED)>,\n",
            " <Task EXPORT_IMAGE: built_059 (COMPLETED)>,\n",
            " <Task EXPORT_IMAGE: built_058 (COMPLETED)>,\n",
            " <Task EXPORT_IMAGE: built_057 (COMPLETED)>,\n",
            " <Task EXPORT_IMAGE: built_056 (COMPLETED)>,\n",
            " <Task EXPORT_IMAGE: built_055 (COMPLETED)>,\n",
            " <Task EXPORT_IMAGE: built_054 (COMPLETED)>,\n",
            " <Task EXPORT_IMAGE: built_053 (COMPLETED)>,\n",
            " <Task EXPORT_IMAGE: built_052 (COMPLETED)>,\n",
            " <Task EXPORT_IMAGE: built_051 (COMPLETED)>]\n"
          ],
          "name": "stdout"
        }
      ]
    },
    {
      "cell_type": "code",
      "metadata": {
        "id": "dgkXhIMCydy9",
        "colab_type": "code",
        "outputId": "8d97bc49-5d61-4bad-98cf-7f06a24e0e49",
        "colab": {
          "base_uri": "https://localhost:8080/",
          "height": 34
        }
      },
      "source": [
        ""
      ],
      "execution_count": 0,
      "outputs": [
        {
          "output_type": "execute_result",
          "data": {
            "text/plain": [
              "'008'"
            ]
          },
          "metadata": {
            "tags": []
          },
          "execution_count": 106
        }
      ]
    },
    {
      "cell_type": "code",
      "metadata": {
        "id": "dUo-b5zwpbzI",
        "colab_type": "code",
        "colab": {}
      },
      "source": [
        ""
      ],
      "execution_count": 0,
      "outputs": []
    }
  ]
}