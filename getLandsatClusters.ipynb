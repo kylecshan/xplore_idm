{
  "nbformat": 4,
  "nbformat_minor": 0,
  "metadata": {
    "colab": {
      "name": "getLandsatClusters.ipynb",
      "provenance": [],
      "collapsed_sections": [],
      "include_colab_link": true
    },
    "kernelspec": {
      "name": "python3",
      "display_name": "Python 3"
    }
  },
  "cells": [
    {
      "cell_type": "markdown",
      "metadata": {
        "id": "view-in-github",
        "colab_type": "text"
      },
      "source": [
        "<a href=\"https://colab.research.google.com/github/kylecshan/xplore_idm/blob/master/getLandsatClusters.ipynb\" target=\"_parent\"><img src=\"https://colab.research.google.com/assets/colab-badge.svg\" alt=\"Open In Colab\"/></a>"
      ]
    },
    {
      "cell_type": "markdown",
      "metadata": {
        "id": "e05A5ku60y3v",
        "colab_type": "text"
      },
      "source": [
        "##Import packages and authenticate"
      ]
    },
    {
      "cell_type": "code",
      "metadata": {
        "id": "xRqB8Jvb0w1j",
        "colab_type": "code",
        "colab": {}
      },
      "source": [
        "# Cloud authentication.\n",
        "from google.colab import auth\n",
        "auth.authenticate_user()"
      ],
      "execution_count": 0,
      "outputs": []
    },
    {
      "cell_type": "code",
      "metadata": {
        "id": "mayu-WDhyHSV",
        "colab_type": "code",
        "outputId": "d8b2ae08-d132-49a0-d059-e60c481f3e6e",
        "colab": {
          "base_uri": "https://localhost:8080/",
          "height": 462
        }
      },
      "source": [
        "# Earth Engine install to notebook VM.\n",
        "!pip install earthengine-api"
      ],
      "execution_count": 0,
      "outputs": [
        {
          "output_type": "stream",
          "text": [
            "Requirement already satisfied: earthengine-api in /usr/local/lib/python3.6/dist-packages (0.1.204)\n",
            "Requirement already satisfied: google-api-python-client in /usr/local/lib/python3.6/dist-packages (from earthengine-api) (1.7.11)\n",
            "Requirement already satisfied: httplib2<1dev,>=0.9.2 in /usr/local/lib/python3.6/dist-packages (from earthengine-api) (0.11.3)\n",
            "Requirement already satisfied: google-auth-httplib2>=0.0.3 in /usr/local/lib/python3.6/dist-packages (from earthengine-api) (0.0.3)\n",
            "Requirement already satisfied: google-auth>=1.4.1 in /usr/local/lib/python3.6/dist-packages (from earthengine-api) (1.4.2)\n",
            "Requirement already satisfied: six in /usr/local/lib/python3.6/dist-packages (from earthengine-api) (1.12.0)\n",
            "Requirement already satisfied: google-cloud-storage in /usr/local/lib/python3.6/dist-packages (from earthengine-api) (1.16.2)\n",
            "Requirement already satisfied: future in /usr/local/lib/python3.6/dist-packages (from earthengine-api) (0.16.0)\n",
            "Requirement already satisfied: uritemplate<4dev,>=3.0.0 in /usr/local/lib/python3.6/dist-packages (from google-api-python-client->earthengine-api) (3.0.0)\n",
            "Requirement already satisfied: rsa>=3.1.4 in /usr/local/lib/python3.6/dist-packages (from google-auth>=1.4.1->earthengine-api) (4.0)\n",
            "Requirement already satisfied: pyasn1-modules>=0.2.1 in /usr/local/lib/python3.6/dist-packages (from google-auth>=1.4.1->earthengine-api) (0.2.7)\n",
            "Requirement already satisfied: cachetools>=2.0.0 in /usr/local/lib/python3.6/dist-packages (from google-auth>=1.4.1->earthengine-api) (3.1.1)\n",
            "Requirement already satisfied: google-resumable-media<0.5.0dev,>=0.3.1 in /usr/local/lib/python3.6/dist-packages (from google-cloud-storage->earthengine-api) (0.4.1)\n",
            "Requirement already satisfied: google-cloud-core<2.0dev,>=1.0.0 in /usr/local/lib/python3.6/dist-packages (from google-cloud-storage->earthengine-api) (1.0.3)\n",
            "Requirement already satisfied: pyasn1>=0.1.3 in /usr/local/lib/python3.6/dist-packages (from rsa>=3.1.4->google-auth>=1.4.1->earthengine-api) (0.4.7)\n",
            "Requirement already satisfied: google-api-core<2.0.0dev,>=1.14.0 in /usr/local/lib/python3.6/dist-packages (from google-cloud-core<2.0dev,>=1.0.0->google-cloud-storage->earthengine-api) (1.14.3)\n",
            "Requirement already satisfied: googleapis-common-protos<2.0dev,>=1.6.0 in /usr/local/lib/python3.6/dist-packages (from google-api-core<2.0.0dev,>=1.14.0->google-cloud-core<2.0dev,>=1.0.0->google-cloud-storage->earthengine-api) (1.6.0)\n",
            "Requirement already satisfied: requests<3.0.0dev,>=2.18.0 in /usr/local/lib/python3.6/dist-packages (from google-api-core<2.0.0dev,>=1.14.0->google-cloud-core<2.0dev,>=1.0.0->google-cloud-storage->earthengine-api) (2.21.0)\n",
            "Requirement already satisfied: protobuf>=3.4.0 in /usr/local/lib/python3.6/dist-packages (from google-api-core<2.0.0dev,>=1.14.0->google-cloud-core<2.0dev,>=1.0.0->google-cloud-storage->earthengine-api) (3.10.0)\n",
            "Requirement already satisfied: setuptools>=34.0.0 in /usr/local/lib/python3.6/dist-packages (from google-api-core<2.0.0dev,>=1.14.0->google-cloud-core<2.0dev,>=1.0.0->google-cloud-storage->earthengine-api) (41.4.0)\n",
            "Requirement already satisfied: pytz in /usr/local/lib/python3.6/dist-packages (from google-api-core<2.0.0dev,>=1.14.0->google-cloud-core<2.0dev,>=1.0.0->google-cloud-storage->earthengine-api) (2018.9)\n",
            "Requirement already satisfied: chardet<3.1.0,>=3.0.2 in /usr/local/lib/python3.6/dist-packages (from requests<3.0.0dev,>=2.18.0->google-api-core<2.0.0dev,>=1.14.0->google-cloud-core<2.0dev,>=1.0.0->google-cloud-storage->earthengine-api) (3.0.4)\n",
            "Requirement already satisfied: idna<2.9,>=2.5 in /usr/local/lib/python3.6/dist-packages (from requests<3.0.0dev,>=2.18.0->google-api-core<2.0.0dev,>=1.14.0->google-cloud-core<2.0dev,>=1.0.0->google-cloud-storage->earthengine-api) (2.8)\n",
            "Requirement already satisfied: certifi>=2017.4.17 in /usr/local/lib/python3.6/dist-packages (from requests<3.0.0dev,>=2.18.0->google-api-core<2.0.0dev,>=1.14.0->google-cloud-core<2.0dev,>=1.0.0->google-cloud-storage->earthengine-api) (2019.9.11)\n",
            "Requirement already satisfied: urllib3<1.25,>=1.21.1 in /usr/local/lib/python3.6/dist-packages (from requests<3.0.0dev,>=2.18.0->google-api-core<2.0.0dev,>=1.14.0->google-cloud-core<2.0dev,>=1.0.0->google-cloud-storage->earthengine-api) (1.24.3)\n"
          ],
          "name": "stdout"
        }
      ]
    },
    {
      "cell_type": "code",
      "metadata": {
        "id": "8ZOlNq4gyIk9",
        "colab_type": "code",
        "outputId": "b9ddfc74-64a0-47f1-bd1d-95f07c716a59",
        "colab": {
          "base_uri": "https://localhost:8080/",
          "height": 173
        }
      },
      "source": [
        "# Import, authenticate and initialize the Earth Engine library.\n",
        "import ee\n",
        "ee.Authenticate()\n",
        "ee.Initialize()"
      ],
      "execution_count": 0,
      "outputs": [
        {
          "output_type": "stream",
          "text": [
            "To authorize access needed by Earth Engine, open the following URL in a web browser and follow the instructions. If the web browser does not start automatically, please manually browse the URL below.\n",
            "\n",
            "    https://accounts.google.com/o/oauth2/auth?client_id=517222506229-vsmmajv00ul0bs7p89v5m89qs8eb9359.apps.googleusercontent.com&scope=https%3A%2F%2Fwww.googleapis.com%2Fauth%2Fearthengine+https%3A%2F%2Fwww.googleapis.com%2Fauth%2Fdevstorage.full_control&redirect_uri=urn%3Aietf%3Awg%3Aoauth%3A2.0%3Aoob&response_type=code\n",
            "\n",
            "The authorization workflow will generate a code, which you should paste in the box below. \n",
            "Enter verification code: 4/sgEqU0XknZyEVgPH6vHqzGr9Sxvco-pola4dEynMX8lkv4ZjFNxW6BE\n",
            "\n",
            "Successfully saved authorization token.\n"
          ],
          "name": "stdout"
        }
      ]
    },
    {
      "cell_type": "markdown",
      "metadata": {
        "id": "gORCrNF_05dY",
        "colab_type": "text"
      },
      "source": [
        "## Configuration"
      ]
    },
    {
      "cell_type": "code",
      "metadata": {
        "id": "qaphNeiHzLIt",
        "colab_type": "code",
        "colab": {}
      },
      "source": [
        "# Specify names locations for outputs in Cloud Storage. \n",
        "BUCKET = 'xplore_idm_fall2019'\n",
        "FOLDER = 'data'\n",
        "TRAINING_BASE = 'cluster'\n",
        "\n",
        "# Specify inputs (Landsat bands) to the model and the response variable.\n",
        "opticalBands = ['B1', 'B2', 'B3', 'B4', 'B5', 'B6', 'B7']\n",
        "thermalBands = ['B10', 'B11']\n",
        "BANDS = opticalBands + thermalBands\n",
        "RESPONSE = 'avg_vis'\n",
        "FEATURES = BANDS + [RESPONSE]\n",
        "\n",
        "# Sizes of the training and evaluation datasets.\n",
        "TRAIN_SIZE = 2000"
      ],
      "execution_count": 0,
      "outputs": []
    },
    {
      "cell_type": "markdown",
      "metadata": {
        "id": "LWJPr9wD0-9B",
        "colab_type": "text"
      },
      "source": [
        "## Get images\n",
        "### Nigeria country border"
      ]
    },
    {
      "cell_type": "code",
      "metadata": {
        "id": "k1V9K3usyeoD",
        "colab_type": "code",
        "colab": {}
      },
      "source": [
        "nigeria = ee.FeatureCollection('USDOS/LSIB_SIMPLE/2017') \\\n",
        "  .filterMetadata('country_co', 'equals', 'NI') \\\n",
        "  .first();\n",
        "nigeria = ee.Feature(nigeria).geometry();"
      ],
      "execution_count": 0,
      "outputs": []
    },
    {
      "cell_type": "markdown",
      "metadata": {
        "id": "yGYidSY90-Qa",
        "colab_type": "text"
      },
      "source": [
        "### Landsat8 and DMSP OLS night lights"
      ]
    },
    {
      "cell_type": "code",
      "metadata": {
        "id": "LxL3bNVNyxOl",
        "colab_type": "code",
        "colab": {}
      },
      "source": [
        "# Cloud masking function.\n",
        "def maskL8sr(image):\n",
        "  cloudShadowBitMask = ee.Number(2).pow(3).int()\n",
        "  cloudsBitMask = ee.Number(2).pow(5).int()\n",
        "  qa = image.select('pixel_qa')\n",
        "  mask1 = qa.bitwiseAnd(cloudShadowBitMask).eq(0).And(\n",
        "    qa.bitwiseAnd(cloudsBitMask).eq(0))\n",
        "  mask2 = image.mask().reduce('min')\n",
        "  mask3 = image.select(opticalBands).gt(0).And(\n",
        "          image.select(opticalBands).lt(10000)).reduce('min')\n",
        "  mask = mask1.And(mask2).And(mask3)\n",
        "  return image.select(opticalBands).divide(10000).addBands(\n",
        "          image.select(thermalBands).divide(10).clamp(273.15, 373.15)\n",
        "            .subtract(273.15).divide(100)).updateMask(mask)"
      ],
      "execution_count": 0,
      "outputs": []
    },
    {
      "cell_type": "code",
      "metadata": {
        "id": "GvfY5vc-y3aP",
        "colab_type": "code",
        "colab": {}
      },
      "source": [
        "landsatComposite = ee.ImageCollection('LANDSAT/LC08/C01/T1_SR') \\\n",
        "  .filterDate('2013-01-01', '2015-12-31') \\\n",
        "  .filterBounds(nigeria) \\\n",
        "  .map(maskL8sr) \\\n",
        "  .median();\n",
        "\n",
        "landsatComposite = landsatComposite.multiply(256).uint8()\n",
        "\n",
        "lightComposite = ee.ImageCollection(\"NOAA/DMSP-OLS/NIGHTTIME_LIGHTS\") \\\n",
        "  .filter(ee.Filter.date('2013-01-01', '2013-12-31')) \\\n",
        "  .filterBounds(nigeria) \\\n",
        "  .select('avg_vis') \\\n",
        "  .median(); \n",
        "\n",
        "lightComposite = lightComposite.uint8()"
      ],
      "execution_count": 0,
      "outputs": []
    },
    {
      "cell_type": "markdown",
      "metadata": {
        "id": "ZnkgYUgZ1MiR",
        "colab_type": "text"
      },
      "source": [
        "### Upscale night lights to match landsat, and sample data"
      ]
    },
    {
      "cell_type": "code",
      "metadata": {
        "id": "1PGrn6Wb1LeH",
        "colab_type": "code",
        "colab": {}
      },
      "source": [
        "landsatComposite = ee.Image.cat([landsatComposite, lightComposite]).float()\n",
        "arrays = landsatComposite.neighborhoodToArray(ee.Kernel.square(417, 'pixels'))"
      ],
      "execution_count": 0,
      "outputs": []
    },
    {
      "cell_type": "code",
      "metadata": {
        "id": "rXr2tWv4S18i",
        "colab_type": "code",
        "outputId": "35e15e4c-07fa-4fe1-c3bb-b8cd22dc4bb9",
        "colab": {
          "resources": {
            "http://localhost:8080/nbextensions/google.colab/files.js": {
              "data": "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",
              "ok": true,
              "headers": [
                [
                  "content-type",
                  "application/javascript"
                ]
              ],
              "status": 200,
              "status_text": ""
            }
          },
          "base_uri": "https://localhost:8080/",
          "height": 74
        }
      },
      "source": [
        "from google.colab import files\n",
        "uploaded = files.upload()"
      ],
      "execution_count": 0,
      "outputs": [
        {
          "output_type": "display_data",
          "data": {
            "text/html": [
              "\n",
              "     <input type=\"file\" id=\"files-16f52c41-050d-48c4-95b3-e22a69ce60b3\" name=\"files[]\" multiple disabled />\n",
              "     <output id=\"result-16f52c41-050d-48c4-95b3-e22a69ce60b3\">\n",
              "      Upload widget is only available when the cell has been executed in the\n",
              "      current browser session. Please rerun this cell to enable.\n",
              "      </output>\n",
              "      <script src=\"/nbextensions/google.colab/files.js\"></script> "
            ],
            "text/plain": [
              "<IPython.core.display.HTML object>"
            ]
          },
          "metadata": {
            "tags": []
          }
        },
        {
          "output_type": "stream",
          "text": [
            "Saving dhs_gps.csv to dhs_gps.csv\n"
          ],
          "name": "stdout"
        }
      ]
    },
    {
      "cell_type": "code",
      "metadata": {
        "id": "sIRTv2TAcfx2",
        "colab_type": "code",
        "outputId": "9b370587-0a04-4939-a660-598940240199",
        "colab": {
          "base_uri": "https://localhost:8080/",
          "height": 306
        }
      },
      "source": [
        "import io\n",
        "import pandas as pd\n",
        "clusters = pd.read_csv(io.BytesIO(uploaded['dhs_gps.csv']))\n",
        "print(clusters)\n",
        "vaccines = clusters.columns[1:12]\n",
        "print(vaccines)\n",
        "clusters = clusters.to_numpy()\n",
        "n = clusters.shape[0]"
      ],
      "execution_count": 0,
      "outputs": [
        {
          "output_type": "stream",
          "text": [
            "     cluster_id       bcg   measles  ...  any_vacc  latitude  longitude\n",
            "0             1  0.880000  0.440000  ...  0.960000  6.902270   8.097115\n",
            "1             2  0.892857  0.464286  ...  1.000000  7.854454   7.876807\n",
            "2             3  0.681818  0.500000  ...  0.777778  7.781454   7.940457\n",
            "3             4  0.535714  0.321429  ...  0.769231  7.176902   9.197081\n",
            "4             5  0.592593  0.500000  ...  0.764706  7.148612   9.164210\n",
            "..          ...       ...       ...  ...       ...       ...        ...\n",
            "884         900  0.947368  0.684211  ...  0.916667  7.368560   3.937503\n",
            "885         901  0.080645  0.000000  ...  0.370968  8.570109   3.547449\n",
            "886         902  0.655172  0.310345  ...  0.562500  8.765458   3.603125\n",
            "887         903  0.477273  0.318182  ...  0.400000  8.660406   3.522780\n",
            "888         904  0.735294  0.470588  ...  0.590909  8.687992   3.412814\n",
            "\n",
            "[889 rows x 14 columns]\n",
            "Index(['bcg', 'measles', 'dpt1', 'dpt2', 'dpt3', 'polio0', 'polio1', 'polio2',\n",
            "       'polio3', 'health_card', 'any_vacc'],\n",
            "      dtype='object')\n"
          ],
          "name": "stdout"
        }
      ]
    },
    {
      "cell_type": "code",
      "metadata": {
        "id": "-l4xZAUp0F-Y",
        "colab_type": "code",
        "outputId": "29557171-c412-435f-e17e-3a705820ebdb",
        "colab": {
          "base_uri": "https://localhost:8080/",
          "height": 136
        }
      },
      "source": [
        "bounds = ee.Geometry.Point(9,7).buffer(12500).bounds()\n",
        "bounds.getInfo()"
      ],
      "execution_count": 0,
      "outputs": [
        {
          "output_type": "execute_result",
          "data": {
            "text/plain": [
              "{'coordinates': [[[8.887595352004267, 6.887557392664181],\n",
              "   [9.112767634673872, 6.887557392664181],\n",
              "   [9.112767634673872, 7.112485824393552],\n",
              "   [8.887595352004267, 7.112485824393552],\n",
              "   [8.887595352004267, 6.887557392664181]]],\n",
              " 'geodesic': False,\n",
              " 'type': 'Polygon'}"
            ]
          },
          "metadata": {
            "tags": []
          },
          "execution_count": 81
        }
      ]
    },
    {
      "cell_type": "code",
      "metadata": {
        "id": "l--LoMmm0P8y",
        "colab_type": "code",
        "colab": {}
      },
      "source": [
        "# task = ee.batch.Export.image.toCloudStorage(\n",
        "#   image = landsatComposite,\n",
        "#   region = bounds.getInfo()['coordinates'],\n",
        "#   description = 'test',\n",
        "#   bucket = BUCKET,\n",
        "#   fileNamePrefix = FOLDER + '/' + desc,\n",
        "#   scale = 30,\n",
        "#   fileFormat = 'GeoTIFF',\n",
        "#   fileDimensions = 1024\n",
        "# )\n",
        "# task.start()"
      ],
      "execution_count": 0,
      "outputs": []
    },
    {
      "cell_type": "code",
      "metadata": {
        "id": "puUlTsnZmwil",
        "colab_type": "code",
        "colab": {}
      },
      "source": [
        "def clipExport(lat, lon, filename):\n",
        "  bounds = ee.Geometry.Point(lon, lat).buffer(12500).bounds()\n",
        "  task = ee.batch.Export.image.toCloudStorage(\n",
        "    image = landsatComposite,\n",
        "    region = bounds.getInfo()['coordinates'],\n",
        "    description = filename,\n",
        "    bucket = BUCKET,\n",
        "    fileNamePrefix = FOLDER + '/' + filename,\n",
        "    scale = 30,\n",
        "    fileFormat = 'GeoTIFF',\n",
        "    fileDimensions = 1024\n",
        "  )\n",
        "  task.start()\n",
        "  return"
      ],
      "execution_count": 0,
      "outputs": []
    },
    {
      "cell_type": "code",
      "metadata": {
        "id": "--kJW3MSTear",
        "colab_type": "code",
        "colab": {}
      },
      "source": [
        "for k in range(201, 400):\n",
        "  description = 'image_' + str(int(clusters[k, 0])).rjust(3,'0')\n",
        "  clipExport(clusters[k, 12], clusters[k, 13], description)\n"
      ],
      "execution_count": 0,
      "outputs": []
    },
    {
      "cell_type": "code",
      "metadata": {
        "id": "De_au97qTxYN",
        "colab_type": "code",
        "colab": {}
      },
      "source": [
        "# chunkSize = 10\n",
        "# for k in range(1): #(n+199)//200):\n",
        "#   a = k*chunkSize\n",
        "#   b = min(a+chunkSize, n)\n",
        "#   tempCollection = [ee.Feature(ee.Geometry.Point(x[1], x[0])) for x in clusters[a:b]]\n",
        "#   tempCollection = ee.FeatureCollection(ee.List(tempCollection))\n",
        "#   geomSample = tempCollection.map(sampleArray)\n",
        "\n",
        "#   desc = TRAINING_BASE + '_g' + str(k)\n",
        "#   task = ee.batch.Export.table.toCloudStorage(\n",
        "#     collection = geomSample,\n",
        "#     description = desc, \n",
        "#     bucket = BUCKET, \n",
        "#     fileNamePrefix = FOLDER + '/' + desc,\n",
        "#     fileFormat = 'TFRecord',\n",
        "#     selectors = BANDS + [RESPONSE]\n",
        "#   )\n",
        "#   task.start()"
      ],
      "execution_count": 0,
      "outputs": []
    },
    {
      "cell_type": "markdown",
      "metadata": {
        "id": "5TRsNyd61TNb",
        "colab_type": "text"
      },
      "source": [
        "### Check task status"
      ]
    },
    {
      "cell_type": "code",
      "metadata": {
        "id": "6onLR5XCyJwF",
        "colab_type": "code",
        "outputId": "a1e2cbfd-7217-4074-9f4f-84373d5f8947",
        "colab": {
          "base_uri": "https://localhost:8080/",
          "height": 1000
        }
      },
      "source": [
        "# Print all tasks.\n",
        "import pprint\n",
        "pp = pprint.PrettyPrinter()\n",
        "pp.pprint(ee.batch.Task.list()[:200])"
      ],
      "execution_count": 113,
      "outputs": [
        {
          "output_type": "stream",
          "text": [
            "[<Task EXPORT_IMAGE: image_410 (READY)>,\n",
            " <Task EXPORT_IMAGE: image_409 (READY)>,\n",
            " <Task EXPORT_IMAGE: image_408 (READY)>,\n",
            " <Task EXPORT_IMAGE: image_407 (READY)>,\n",
            " <Task EXPORT_IMAGE: image_406 (READY)>,\n",
            " <Task EXPORT_IMAGE: image_405 (READY)>,\n",
            " <Task EXPORT_IMAGE: image_404 (READY)>,\n",
            " <Task EXPORT_IMAGE: image_403 (READY)>,\n",
            " <Task EXPORT_IMAGE: image_402 (READY)>,\n",
            " <Task EXPORT_IMAGE: image_401 (READY)>,\n",
            " <Task EXPORT_IMAGE: image_400 (READY)>,\n",
            " <Task EXPORT_IMAGE: image_399 (READY)>,\n",
            " <Task EXPORT_IMAGE: image_398 (READY)>,\n",
            " <Task EXPORT_IMAGE: image_397 (READY)>,\n",
            " <Task EXPORT_IMAGE: image_396 (READY)>,\n",
            " <Task EXPORT_IMAGE: image_395 (READY)>,\n",
            " <Task EXPORT_IMAGE: image_394 (READY)>,\n",
            " <Task EXPORT_IMAGE: image_393 (READY)>,\n",
            " <Task EXPORT_IMAGE: image_392 (READY)>,\n",
            " <Task EXPORT_IMAGE: image_391 (READY)>,\n",
            " <Task EXPORT_IMAGE: image_390 (READY)>,\n",
            " <Task EXPORT_IMAGE: image_389 (READY)>,\n",
            " <Task EXPORT_IMAGE: image_388 (READY)>,\n",
            " <Task EXPORT_IMAGE: image_387 (READY)>,\n",
            " <Task EXPORT_IMAGE: image_386 (READY)>,\n",
            " <Task EXPORT_IMAGE: image_385 (READY)>,\n",
            " <Task EXPORT_IMAGE: image_384 (READY)>,\n",
            " <Task EXPORT_IMAGE: image_383 (READY)>,\n",
            " <Task EXPORT_IMAGE: image_382 (READY)>,\n",
            " <Task EXPORT_IMAGE: image_381 (READY)>,\n",
            " <Task EXPORT_IMAGE: image_380 (READY)>,\n",
            " <Task EXPORT_IMAGE: image_379 (READY)>,\n",
            " <Task EXPORT_IMAGE: image_378 (READY)>,\n",
            " <Task EXPORT_IMAGE: image_377 (READY)>,\n",
            " <Task EXPORT_IMAGE: image_376 (READY)>,\n",
            " <Task EXPORT_IMAGE: image_375 (READY)>,\n",
            " <Task EXPORT_IMAGE: image_374 (READY)>,\n",
            " <Task EXPORT_IMAGE: image_372 (READY)>,\n",
            " <Task EXPORT_IMAGE: image_371 (READY)>,\n",
            " <Task EXPORT_IMAGE: image_370 (READY)>,\n",
            " <Task EXPORT_IMAGE: image_369 (READY)>,\n",
            " <Task EXPORT_IMAGE: image_368 (READY)>,\n",
            " <Task EXPORT_IMAGE: image_367 (READY)>,\n",
            " <Task EXPORT_IMAGE: image_366 (READY)>,\n",
            " <Task EXPORT_IMAGE: image_365 (READY)>,\n",
            " <Task EXPORT_IMAGE: image_364 (READY)>,\n",
            " <Task EXPORT_IMAGE: image_363 (READY)>,\n",
            " <Task EXPORT_IMAGE: image_362 (READY)>,\n",
            " <Task EXPORT_IMAGE: image_361 (READY)>,\n",
            " <Task EXPORT_IMAGE: image_360 (READY)>,\n",
            " <Task EXPORT_IMAGE: image_359 (READY)>,\n",
            " <Task EXPORT_IMAGE: image_358 (READY)>,\n",
            " <Task EXPORT_IMAGE: image_357 (READY)>,\n",
            " <Task EXPORT_IMAGE: image_356 (READY)>,\n",
            " <Task EXPORT_IMAGE: image_355 (READY)>,\n",
            " <Task EXPORT_IMAGE: image_354 (READY)>,\n",
            " <Task EXPORT_IMAGE: image_353 (READY)>,\n",
            " <Task EXPORT_IMAGE: image_352 (READY)>,\n",
            " <Task EXPORT_IMAGE: image_351 (READY)>,\n",
            " <Task EXPORT_IMAGE: image_350 (READY)>,\n",
            " <Task EXPORT_IMAGE: image_349 (READY)>,\n",
            " <Task EXPORT_IMAGE: image_348 (READY)>,\n",
            " <Task EXPORT_IMAGE: image_347 (READY)>,\n",
            " <Task EXPORT_IMAGE: image_346 (READY)>,\n",
            " <Task EXPORT_IMAGE: image_345 (READY)>,\n",
            " <Task EXPORT_IMAGE: image_344 (READY)>,\n",
            " <Task EXPORT_IMAGE: image_343 (READY)>,\n",
            " <Task EXPORT_IMAGE: image_342 (READY)>,\n",
            " <Task EXPORT_IMAGE: image_341 (READY)>,\n",
            " <Task EXPORT_IMAGE: image_340 (READY)>,\n",
            " <Task EXPORT_IMAGE: image_339 (READY)>,\n",
            " <Task EXPORT_IMAGE: image_338 (READY)>,\n",
            " <Task EXPORT_IMAGE: image_337 (READY)>,\n",
            " <Task EXPORT_IMAGE: image_336 (READY)>,\n",
            " <Task EXPORT_IMAGE: image_335 (READY)>,\n",
            " <Task EXPORT_IMAGE: image_334 (READY)>,\n",
            " <Task EXPORT_IMAGE: image_333 (READY)>,\n",
            " <Task EXPORT_IMAGE: image_332 (READY)>,\n",
            " <Task EXPORT_IMAGE: image_331 (READY)>,\n",
            " <Task EXPORT_IMAGE: image_330 (READY)>,\n",
            " <Task EXPORT_IMAGE: image_329 (READY)>,\n",
            " <Task EXPORT_IMAGE: image_328 (READY)>,\n",
            " <Task EXPORT_IMAGE: image_327 (READY)>,\n",
            " <Task EXPORT_IMAGE: image_326 (READY)>,\n",
            " <Task EXPORT_IMAGE: image_325 (READY)>,\n",
            " <Task EXPORT_IMAGE: image_324 (READY)>,\n",
            " <Task EXPORT_IMAGE: image_323 (READY)>,\n",
            " <Task EXPORT_IMAGE: image_322 (READY)>,\n",
            " <Task EXPORT_IMAGE: image_321 (READY)>,\n",
            " <Task EXPORT_IMAGE: image_320 (READY)>,\n",
            " <Task EXPORT_IMAGE: image_319 (READY)>,\n",
            " <Task EXPORT_IMAGE: image_318 (READY)>,\n",
            " <Task EXPORT_IMAGE: image_317 (READY)>,\n",
            " <Task EXPORT_IMAGE: image_316 (READY)>,\n",
            " <Task EXPORT_IMAGE: image_315 (READY)>,\n",
            " <Task EXPORT_IMAGE: image_314 (READY)>,\n",
            " <Task EXPORT_IMAGE: image_313 (READY)>,\n",
            " <Task EXPORT_IMAGE: image_312 (READY)>,\n",
            " <Task EXPORT_IMAGE: image_311 (READY)>,\n",
            " <Task EXPORT_IMAGE: image_310 (READY)>,\n",
            " <Task EXPORT_IMAGE: image_309 (READY)>,\n",
            " <Task EXPORT_IMAGE: image_308 (READY)>,\n",
            " <Task EXPORT_IMAGE: image_307 (READY)>,\n",
            " <Task EXPORT_IMAGE: image_306 (READY)>,\n",
            " <Task EXPORT_IMAGE: image_305 (READY)>,\n",
            " <Task EXPORT_IMAGE: image_304 (READY)>,\n",
            " <Task EXPORT_IMAGE: image_303 (READY)>,\n",
            " <Task EXPORT_IMAGE: image_301 (READY)>,\n",
            " <Task EXPORT_IMAGE: image_300 (READY)>,\n",
            " <Task EXPORT_IMAGE: image_299 (READY)>,\n",
            " <Task EXPORT_IMAGE: image_298 (READY)>,\n",
            " <Task EXPORT_IMAGE: image_297 (READY)>,\n",
            " <Task EXPORT_IMAGE: image_296 (READY)>,\n",
            " <Task EXPORT_IMAGE: image_295 (READY)>,\n",
            " <Task EXPORT_IMAGE: image_294 (READY)>,\n",
            " <Task EXPORT_IMAGE: image_293 (READY)>,\n",
            " <Task EXPORT_IMAGE: image_290 (READY)>,\n",
            " <Task EXPORT_IMAGE: image_289 (READY)>,\n",
            " <Task EXPORT_IMAGE: image_288 (READY)>,\n",
            " <Task EXPORT_IMAGE: image_287 (READY)>,\n",
            " <Task EXPORT_IMAGE: image_286 (READY)>,\n",
            " <Task EXPORT_IMAGE: image_285 (READY)>,\n",
            " <Task EXPORT_IMAGE: image_284 (READY)>,\n",
            " <Task EXPORT_IMAGE: image_283 (READY)>,\n",
            " <Task EXPORT_IMAGE: image_282 (READY)>,\n",
            " <Task EXPORT_IMAGE: image_281 (READY)>,\n",
            " <Task EXPORT_IMAGE: image_280 (READY)>,\n",
            " <Task EXPORT_IMAGE: image_279 (READY)>,\n",
            " <Task EXPORT_IMAGE: image_278 (READY)>,\n",
            " <Task EXPORT_IMAGE: image_277 (READY)>,\n",
            " <Task EXPORT_IMAGE: image_276 (READY)>,\n",
            " <Task EXPORT_IMAGE: image_275 (READY)>,\n",
            " <Task EXPORT_IMAGE: image_274 (READY)>,\n",
            " <Task EXPORT_IMAGE: image_273 (READY)>,\n",
            " <Task EXPORT_IMAGE: image_272 (READY)>,\n",
            " <Task EXPORT_IMAGE: image_271 (READY)>,\n",
            " <Task EXPORT_IMAGE: image_270 (READY)>,\n",
            " <Task EXPORT_IMAGE: image_269 (READY)>,\n",
            " <Task EXPORT_IMAGE: image_268 (READY)>,\n",
            " <Task EXPORT_IMAGE: image_267 (READY)>,\n",
            " <Task EXPORT_IMAGE: image_266 (READY)>,\n",
            " <Task EXPORT_IMAGE: image_265 (READY)>,\n",
            " <Task EXPORT_IMAGE: image_264 (READY)>,\n",
            " <Task EXPORT_IMAGE: image_263 (READY)>,\n",
            " <Task EXPORT_IMAGE: image_262 (READY)>,\n",
            " <Task EXPORT_IMAGE: image_261 (READY)>,\n",
            " <Task EXPORT_IMAGE: image_260 (READY)>,\n",
            " <Task EXPORT_IMAGE: image_259 (READY)>,\n",
            " <Task EXPORT_IMAGE: image_258 (READY)>,\n",
            " <Task EXPORT_IMAGE: image_257 (READY)>,\n",
            " <Task EXPORT_IMAGE: image_256 (READY)>,\n",
            " <Task EXPORT_IMAGE: image_255 (READY)>,\n",
            " <Task EXPORT_IMAGE: image_254 (READY)>,\n",
            " <Task EXPORT_IMAGE: image_253 (READY)>,\n",
            " <Task EXPORT_IMAGE: image_252 (READY)>,\n",
            " <Task EXPORT_IMAGE: image_251 (READY)>,\n",
            " <Task EXPORT_IMAGE: image_250 (READY)>,\n",
            " <Task EXPORT_IMAGE: image_249 (READY)>,\n",
            " <Task EXPORT_IMAGE: image_248 (READY)>,\n",
            " <Task EXPORT_IMAGE: image_247 (READY)>,\n",
            " <Task EXPORT_IMAGE: image_246 (READY)>,\n",
            " <Task EXPORT_IMAGE: image_245 (READY)>,\n",
            " <Task EXPORT_IMAGE: image_244 (READY)>,\n",
            " <Task EXPORT_IMAGE: image_243 (RUNNING)>,\n",
            " <Task EXPORT_IMAGE: image_242 (RUNNING)>,\n",
            " <Task EXPORT_IMAGE: image_241 (RUNNING)>,\n",
            " <Task EXPORT_IMAGE: image_240 (COMPLETED)>,\n",
            " <Task EXPORT_IMAGE: image_239 (COMPLETED)>,\n",
            " <Task EXPORT_IMAGE: image_238 (COMPLETED)>,\n",
            " <Task EXPORT_IMAGE: image_237 (COMPLETED)>,\n",
            " <Task EXPORT_IMAGE: image_236 (COMPLETED)>,\n",
            " <Task EXPORT_IMAGE: image_235 (COMPLETED)>,\n",
            " <Task EXPORT_IMAGE: image_233 (COMPLETED)>,\n",
            " <Task EXPORT_IMAGE: image_232 (COMPLETED)>,\n",
            " <Task EXPORT_IMAGE: image_231 (COMPLETED)>,\n",
            " <Task EXPORT_IMAGE: image_230 (COMPLETED)>,\n",
            " <Task EXPORT_IMAGE: image_229 (COMPLETED)>,\n",
            " <Task EXPORT_IMAGE: image_228 (COMPLETED)>,\n",
            " <Task EXPORT_IMAGE: image_226 (COMPLETED)>,\n",
            " <Task EXPORT_IMAGE: image_225 (COMPLETED)>,\n",
            " <Task EXPORT_IMAGE: image_224 (COMPLETED)>,\n",
            " <Task EXPORT_IMAGE: image_223 (COMPLETED)>,\n",
            " <Task EXPORT_IMAGE: image_222 (COMPLETED)>,\n",
            " <Task EXPORT_IMAGE: image_221 (COMPLETED)>,\n",
            " <Task EXPORT_IMAGE: image_220 (COMPLETED)>,\n",
            " <Task EXPORT_IMAGE: image_219 (COMPLETED)>,\n",
            " <Task EXPORT_IMAGE: image_218 (COMPLETED)>,\n",
            " <Task EXPORT_IMAGE: image_217 (COMPLETED)>,\n",
            " <Task EXPORT_IMAGE: image_216 (COMPLETED)>,\n",
            " <Task EXPORT_IMAGE: image_215 (COMPLETED)>,\n",
            " <Task EXPORT_IMAGE: image_212 (COMPLETED)>,\n",
            " <Task EXPORT_IMAGE: image_211 (COMPLETED)>,\n",
            " <Task EXPORT_IMAGE: image_210 (COMPLETED)>,\n",
            " <Task EXPORT_IMAGE: image_209 (COMPLETED)>,\n",
            " <Task EXPORT_IMAGE: image_208 (COMPLETED)>,\n",
            " <Task EXPORT_IMAGE: image_207 (COMPLETED)>,\n",
            " <Task EXPORT_IMAGE: image_206 (COMPLETED)>,\n",
            " <Task EXPORT_IMAGE: image_205 (COMPLETED)>,\n",
            " <Task EXPORT_IMAGE: image_204 (COMPLETED)>,\n",
            " <Task EXPORT_IMAGE: image_203 (COMPLETED)>]\n"
          ],
          "name": "stdout"
        }
      ]
    },
    {
      "cell_type": "code",
      "metadata": {
        "id": "dgkXhIMCydy9",
        "colab_type": "code",
        "outputId": "8d97bc49-5d61-4bad-98cf-7f06a24e0e49",
        "colab": {
          "base_uri": "https://localhost:8080/",
          "height": 34
        }
      },
      "source": [
        ""
      ],
      "execution_count": 106,
      "outputs": [
        {
          "output_type": "execute_result",
          "data": {
            "text/plain": [
              "'008'"
            ]
          },
          "metadata": {
            "tags": []
          },
          "execution_count": 106
        }
      ]
    },
    {
      "cell_type": "code",
      "metadata": {
        "id": "dUo-b5zwpbzI",
        "colab_type": "code",
        "colab": {}
      },
      "source": [
        ""
      ],
      "execution_count": 0,
      "outputs": []
    }
  ]
}