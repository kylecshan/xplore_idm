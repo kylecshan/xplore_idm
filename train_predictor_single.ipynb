{
 "cells": [
  {
   "cell_type": "code",
   "execution_count": 1,
   "metadata": {},
   "outputs": [],
   "source": [
    "import torch\n",
    "import torchvision.transforms as transforms\n",
    "import torchvision.models as models\n",
    "import torch.nn as nn\n",
    "import torch.optim as optim\n",
    "import torch.utils.data.dataset as dataset\n",
    "import numpy as np\n",
    "\n",
    "from dataset import TestDataset\n",
    "from model import *"
   ]
  },
  {
   "cell_type": "code",
   "execution_count": 2,
   "metadata": {},
   "outputs": [
    {
     "name": "stdout",
     "output_type": "stream",
     "text": [
      "cuda:0\n"
     ]
    }
   ],
   "source": [
    "device = torch.device(\"cuda:0\" if torch.cuda.is_available() else \"cpu\")\n",
    "print(device)"
   ]
  },
  {
   "cell_type": "markdown",
   "metadata": {},
   "source": [
    "## Extract features if you're using a newly trained model"
   ]
  },
  {
   "cell_type": "code",
   "execution_count": 205,
   "metadata": {},
   "outputs": [],
   "source": [
    "# Load trained model\n",
    "net = initialize_model2()\n",
    "n_features = 512\n",
    "\n",
    "SAVED_MODEL_PATH = 'checkpoints/vgg11bn_2_4'\n",
    "net.load_state_dict(torch.load(SAVED_MODEL_PATH))\n",
    "\n",
    "# Freeze layers\n",
    "for param in net.parameters():\n",
    "    param.requires_grad = False\n",
    "    \n",
    "# We just want to apply the feature extractor for now\n",
    "net.classifier = nn.Identity()"
   ]
  },
  {
   "cell_type": "code",
   "execution_count": 4,
   "metadata": {},
   "outputs": [],
   "source": [
    "# Get dataset\n",
    "DATA_FILE = 'E:/xplore_data/data/images.h5'\n",
    "HEALTH_FILE = 'data/dhs_gps.csv'\n",
    "dimages = TestDataset(DATA_FILE, HEALTH_FILE)\n",
    "dimagesloader = torch.utils.data.DataLoader(dimages, batch_size=64, shuffle=False, num_workers=0)"
   ]
  },
  {
   "cell_type": "code",
   "execution_count": 5,
   "metadata": {},
   "outputs": [],
   "source": [
    "# Apply feature extractor to the dataset\n",
    "n = len(dimages)\n",
    "extracted_features = torch.zeros(n, n_features+11+1)\n",
    "i = 0\n",
    "# Iterate over data.\n",
    "net.to(device)\n",
    "for x, _, z in dimagesloader:\n",
    "    x = x.to(device)\n",
    "    j = i + x.shape[0]\n",
    "    with torch.set_grad_enabled(False):\n",
    "        outputs = net(x)\n",
    "        extracted_features[i:j, :n_features] = torch.squeeze(outputs).cpu()\n",
    "        extracted_features[i:j, n_features:n_features+11] = z[:, 14:25]\n",
    "        extracted_features[i:j, n_features+11] = z[:, 3:14].mean(axis=1)\n",
    "    i += 64"
   ]
  },
  {
   "cell_type": "code",
   "execution_count": 6,
   "metadata": {},
   "outputs": [
    {
     "data": {
      "text/plain": [
       "tensor([], size=(0, 2), dtype=torch.int64)"
      ]
     },
     "execution_count": 6,
     "metadata": {},
     "output_type": "execute_result"
    }
   ],
   "source": [
    "torch.isnan(extracted_features).nonzero()"
   ]
  },
  {
   "cell_type": "code",
   "execution_count": 103,
   "metadata": {},
   "outputs": [],
   "source": [
    "torch.save(extracted_features, 'data/features_vgg11bn_2_4.pt')"
   ]
  },
  {
   "cell_type": "markdown",
   "metadata": {},
   "source": [
    "## Load pre-extracted features if you don't want to re-extract"
   ]
  },
  {
   "cell_type": "code",
   "execution_count": 3,
   "metadata": {},
   "outputs": [],
   "source": [
    "extracted_features = torch.load('data/features_vgg11bn_2_4.pt')"
   ]
  },
  {
   "cell_type": "code",
   "execution_count": 15,
   "metadata": {},
   "outputs": [],
   "source": [
    "dfeatures = dataset.TensorDataset(extracted_features)\n",
    "n = extracted_features.shape[0]\n",
    "n_features = 512\n",
    "\n",
    "# Randomly split this dataset into train and test.\n",
    "dtrain, dtest = dataset.random_split(dfeatures, (n - (n//5), n//5))"
   ]
  },
  {
   "cell_type": "code",
   "execution_count": 16,
   "metadata": {},
   "outputs": [
    {
     "name": "stdout",
     "output_type": "stream",
     "text": [
      "torch.Size([524])\n"
     ]
    }
   ],
   "source": [
    "print(dfeatures.__getitem__(0)[0].shape)"
   ]
  },
  {
   "cell_type": "code",
   "execution_count": 167,
   "metadata": {},
   "outputs": [],
   "source": [
    "# Train the predictor model\n",
    "def train_model(model, dataloader, optimizer, scheduler, num_epochs=4, test_loader=None, tgt=3):\n",
    "    print_every = 100\n",
    "    for epoch in range(num_epochs+1):\n",
    "        if epoch % print_every == 0:\n",
    "            print('Epoch {}/{}: '.format(epoch, num_epochs), end='')\n",
    "\n",
    "        model.train()\n",
    "        running_loss = 0.0\n",
    "        criterion = nn.BCEWithLogitsLoss(reduction='none')\n",
    "#         criterion = nn.MSELoss(reduction='none')\n",
    "\n",
    "        # Iterate over data.\n",
    "        for rows in dataloader:\n",
    "            x = rows[0][:, :n_features].to(device)\n",
    "            y = rows[0][:, n_features+tgt].to(device)\n",
    "#             y = rows[0][:, n_features:n_features+11].to(device)\n",
    "#             wt = rows[0][:, n_features+11].to(device)\n",
    "#             wt = wt / wt.sum() * x.shape[0] #give the weights an avg of 1\n",
    "            \n",
    "            # zero the parameter gradients\n",
    "            optimizer.zero_grad()\n",
    "\n",
    "            # forward\n",
    "            # track history if only in train\n",
    "            with torch.set_grad_enabled(True):\n",
    "                outputs = model(x).squeeze()\n",
    "#                 print(outputs.shape)\n",
    "#                 print(y.shape)\n",
    "#                 loss = torch.sum(criterion(outputs, y).mean(axis=1) * wt)\n",
    "                loss = torch.mean(criterion(outputs, y))\n",
    "                loss.backward()\n",
    "                optimizer.step()\n",
    "                if scheduler is not None:\n",
    "                    scheduler.step()\n",
    "\n",
    "            # statistics\n",
    "            running_loss += loss.item() * x.size(0)\n",
    "\n",
    "        epoch_loss = running_loss / len(dtrain)\n",
    "        if epoch % print_every == 0:\n",
    "            print('Training loss: {:.4f}; '.format(epoch_loss), end='')\n",
    "        test_loss = 0.0\n",
    "        \n",
    "        if test_loader is not None:\n",
    "            for rows in test_loader:\n",
    "                x = rows[0][:, :n_features].to(device)\n",
    "                y = rows[0][:, n_features+tgt].to(device)\n",
    "#                 y = rows[0][:, n_features:n_features+11].to(device)\n",
    "#             wt = rows[0][:, n_features+11].to(device)\n",
    "#             wt = wt / wt.sum()\n",
    "\n",
    "                # forward\n",
    "                # track history if only in train\n",
    "                with torch.set_grad_enabled(False):\n",
    "                    outputs = model(x).squeeze()\n",
    "#                 loss = torch.sum(criterion(outputs, y).mean(axis=1) * wt)\n",
    "                    loss = torch.mean(criterion(outputs, y))\n",
    "\n",
    "                # statistics\n",
    "                test_loss += loss.item() * x.size(0)\n",
    "        test_loss /= len(dtest)\n",
    "        if epoch % print_every == 0:\n",
    "            print('Test loss: {:.4f}'.format(test_loss))\n",
    "\n",
    "    return model\n"
   ]
  },
  {
   "cell_type": "code",
   "execution_count": 210,
   "metadata": {},
   "outputs": [],
   "source": [
    "# Simple neural network to predict healthcare\n",
    "def initialize_predictor():\n",
    "    predictor = nn.Sequential(\n",
    "        nn.Linear(n_features, 50),\n",
    "        nn.Sigmoid(),\n",
    "        nn.Linear(50, 20),\n",
    "        nn.Sigmoid(),\n",
    "        nn.Linear(20, 1)\n",
    "    )\n",
    "#     predictor = nn.Sequential(\n",
    "#         nn.Linear(n_features, 10),\n",
    "#         nn.Sigmoid(),\n",
    "#         nn.Linear(10, 1)\n",
    "#     )\n",
    "    predictor.to(device)\n",
    "    return predictor"
   ]
  },
  {
   "cell_type": "code",
   "execution_count": 211,
   "metadata": {},
   "outputs": [],
   "source": [
    "BATCH_SIZE = (889+3)//4\n",
    "EPOCHS = 500\n",
    "\n",
    "predictor = initialize_predictor()\n",
    "tgt = 0\n",
    "\n",
    "# Data loader\n",
    "dloader = torch.utils.data.DataLoader(dtrain, batch_size=BATCH_SIZE, shuffle=True, num_workers=0)\n",
    "dtestloader = torch.utils.data.DataLoader(dtest, batch_size=512, shuffle=False, num_workers=0)\n",
    "\n",
    "# Create training optimizer\n",
    "optimizer = optim.Adam(predictor.parameters(), lr=0.01, weight_decay=0.001)\n",
    "scheduler = optim.lr_scheduler.StepLR(optimizer, step_size=50, gamma=0.8)\n"
   ]
  },
  {
   "cell_type": "code",
   "execution_count": 212,
   "metadata": {},
   "outputs": [
    {
     "name": "stdout",
     "output_type": "stream",
     "text": [
      "Epoch 0/500: Training loss: 0.6635; Test loss: 0.6684\n",
      "Epoch 100/500: Training loss: 0.4776; Test loss: 0.5239\n",
      "Epoch 200/500: Training loss: 0.4558; Test loss: 0.5005\n",
      "Epoch 300/500: Training loss: 0.4526; Test loss: 0.4981\n",
      "Epoch 400/500: Training loss: 0.4516; Test loss: 0.4981\n",
      "Epoch 500/500: Training loss: 0.4515; Test loss: 0.4977\n"
     ]
    }
   ],
   "source": [
    "predictor = train_model(predictor, dloader, optimizer, scheduler, \n",
    "                        num_epochs=EPOCHS, test_loader=dtestloader,\n",
    "                        tgt=tgt)"
   ]
  },
  {
   "cell_type": "code",
   "execution_count": 213,
   "metadata": {},
   "outputs": [
    {
     "name": "stdout",
     "output_type": "stream",
     "text": [
      "0.7429, 0.5864\n"
     ]
    },
    {
     "data": {
      "image/png": "[encoded data removed]",
      "text/plain": [
       "<Figure size 432x288 with 1 Axes>"
      ]
     },
     "metadata": {
      "needs_background": "light"
     },
     "output_type": "display_data"
    },
    {
     "data": {
      "image/png": "[encoded data removed]",
      "text/plain": [
       "<Figure size 432x288 with 1 Axes>"
      ]
     },
     "metadata": {
      "needs_background": "light"
     },
     "output_type": "display_data"
    }
   ],
   "source": [
    "from sklearn.metrics import r2_score\n",
    "import matplotlib.pyplot as plt\n",
    "\n",
    "with torch.no_grad():\n",
    "    split = [dtrain.indices, dtest.indices]\n",
    "    tensor_inputs = [extracted_features[x, :n_features].to(device) for x in split]\n",
    "    targets = [extracted_features[x, n_features+tgt].numpy() for x in split]\n",
    "    preds = [torch.sigmoid(predictor(x)).cpu().numpy() for x in tensor_inputs]\n",
    "r2s = [r2_score(y, pred) for y, pred in zip(targets, preds)]\n",
    "print('%.4f, %.4f' % tuple(r2s))\n",
    "\n",
    "plt.scatter(preds[0], targets[0])\n",
    "plt.show()\n",
    "plt.scatter(preds[1], targets[1])\n",
    "plt.show()"
   ]
  },
  {
   "cell_type": "markdown",
   "metadata": {},
   "source": [
    "## Put together the end-to-end network and save it"
   ]
  },
  {
   "cell_type": "code",
   "execution_count": 215,
   "metadata": {},
   "outputs": [],
   "source": [
    "import os\n",
    "net.classifier = predictor\n",
    "checkpoint_name = 'vgg11bn_2_e2e'\n",
    "CHECKPOINT_FOLDER = 'checkpoints/'\n",
    "torch.save(net.state_dict(), os.path.join(CHECKPOINT_FOLDER, checkpoint_name))"
   ]
  },
  {
   "cell_type": "code",
   "execution_count": 216,
   "metadata": {},
   "outputs": [
    {
     "data": {
      "text/plain": [
       "VGG(\n",
       "  (features): Sequential(\n",
       "    (0): Conv2d(9, 64, kernel_size=(3, 3), stride=(1, 1), padding=(1, 1))\n",
       "    (1): BatchNorm2d(64, eps=1e-05, momentum=0.1, affine=True, track_running_stats=True)\n",
       "    (2): ReLU(inplace=True)\n",
       "    (3): MaxPool2d(kernel_size=2, stride=2, padding=0, dilation=1, ceil_mode=False)\n",
       "    (4): Conv2d(64, 128, kernel_size=(3, 3), stride=(1, 1), padding=(1, 1))\n",
       "    (5): BatchNorm2d(128, eps=1e-05, momentum=0.1, affine=True, track_running_stats=True)\n",
       "    (6): ReLU(inplace=True)\n",
       "    (7): MaxPool2d(kernel_size=2, stride=2, padding=0, dilation=1, ceil_mode=False)\n",
       "    (8): Conv2d(128, 256, kernel_size=(3, 3), stride=(1, 1), padding=(1, 1))\n",
       "    (9): BatchNorm2d(256, eps=1e-05, momentum=0.1, affine=True, track_running_stats=True)\n",
       "    (10): ReLU(inplace=True)\n",
       "    (11): Conv2d(256, 256, kernel_size=(3, 3), stride=(1, 1), padding=(1, 1))\n",
       "    (12): BatchNorm2d(256, eps=1e-05, momentum=0.1, affine=True, track_running_stats=True)\n",
       "    (13): ReLU(inplace=True)\n",
       "    (14): MaxPool2d(kernel_size=2, stride=2, padding=0, dilation=1, ceil_mode=False)\n",
       "    (15): Conv2d(256, 512, kernel_size=(3, 3), stride=(1, 1), padding=(1, 1))\n",
       "    (16): BatchNorm2d(512, eps=1e-05, momentum=0.1, affine=True, track_running_stats=True)\n",
       "    (17): ReLU(inplace=True)\n",
       "    (18): Conv2d(512, 512, kernel_size=(3, 3), stride=(1, 1), padding=(1, 1))\n",
       "    (19): BatchNorm2d(512, eps=1e-05, momentum=0.1, affine=True, track_running_stats=True)\n",
       "    (20): ReLU(inplace=True)\n",
       "    (21): MaxPool2d(kernel_size=2, stride=2, padding=0, dilation=1, ceil_mode=False)\n",
       "    (22): Conv2d(512, 512, kernel_size=(3, 3), stride=(1, 1), padding=(1, 1))\n",
       "    (23): BatchNorm2d(512, eps=1e-05, momentum=0.1, affine=True, track_running_stats=True)\n",
       "    (24): ReLU(inplace=True)\n",
       "    (25): Conv2d(512, 512, kernel_size=(3, 3), stride=(1, 1), padding=(1, 1))\n",
       "    (26): BatchNorm2d(512, eps=1e-05, momentum=0.1, affine=True, track_running_stats=True)\n",
       "    (27): ReLU(inplace=True)\n",
       "    (28): MaxPool2d(kernel_size=2, stride=2, padding=0, dilation=1, ceil_mode=False)\n",
       "  )\n",
       "  (avgpool): AdaptiveAvgPool2d(output_size=(1, 1))\n",
       "  (classifier): Sequential(\n",
       "    (0): Linear(in_features=512, out_features=50, bias=True)\n",
       "    (1): Sigmoid()\n",
       "    (2): Linear(in_features=50, out_features=20, bias=True)\n",
       "    (3): Sigmoid()\n",
       "    (4): Linear(in_features=20, out_features=1, bias=True)\n",
       "  )\n",
       ")"
      ]
     },
     "execution_count": 216,
     "metadata": {},
     "output_type": "execute_result"
    }
   ],
   "source": [
    "net"
   ]
  },
  {
   "cell_type": "code",
   "execution_count": null,
   "metadata": {},
   "outputs": [],
   "source": []
  },
  {
   "cell_type": "code",
   "execution_count": null,
   "metadata": {},
   "outputs": [],
   "source": []
  },
  {
   "cell_type": "code",
   "execution_count": null,
   "metadata": {},
   "outputs": [],
   "source": []
  },
  {
   "cell_type": "code",
   "execution_count": null,
   "metadata": {},
   "outputs": [],
   "source": []
  }
 ],
 "metadata": {
  "kernelspec": {
   "display_name": "Python 3",
   "language": "python",
   "name": "python3"
  },
  "language_info": {
   "codemirror_mode": {
    "name": "ipython",
    "version": 3
   },
   "file_extension": ".py",
   "mimetype": "text/x-python",
   "name": "python",
   "nbconvert_exporter": "python",
   "pygments_lexer": "ipython3",
   "version": "3.7.4"
  }
 },
 "nbformat": 4,
 "nbformat_minor": 2
}
